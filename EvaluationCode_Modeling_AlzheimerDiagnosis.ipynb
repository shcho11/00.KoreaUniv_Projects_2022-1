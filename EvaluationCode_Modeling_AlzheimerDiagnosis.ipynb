{
  "nbformat": 4,
  "nbformat_minor": 0,
  "metadata": {
    "colab": {
      "name": "EvaluationCode_Modeling_AlzheimerDiagnosis.ipynb",
      "provenance": [],
      "collapsed_sections": [],
      "include_colab_link": true
    },
    "kernelspec": {
      "name": "python3",
      "display_name": "Python 3"
    }
  },
  "cells": [
    {
      "cell_type": "markdown",
      "metadata": {
        "id": "view-in-github",
        "colab_type": "text"
      },
      "source": [
        "<a href=\"https://colab.research.google.com/github/shcho11/00.ML_Practices_2022_School/blob/main/EvaluationCode_Modeling_AlzheimerDiagnosis.ipynb\" target=\"_parent\"><img src=\"https://colab.research.google.com/assets/colab-badge.svg\" alt=\"Open In Colab\"/></a>"
      ]
    },
    {
      "cell_type": "markdown",
      "metadata": {
        "id": "O1EniWt79ikB"
      },
      "source": [
        "### Caution\n",
        "\n",
        "This code is only for model loading and evaluation.\n",
        "\n",
        "Don't include code for training your model here.\n",
        "\n",
        "We may terminate codes with very long execution time (i.e. 0 points) due to training a model here."
      ]
    },
    {
      "cell_type": "code",
      "source": [
        "#@title Student Information { run: \"auto\", display-mode: \"form\" }\n",
        "\n",
        "Student_ID = '2020511038' #@param {type:\"string\"}"
      ],
      "metadata": {
        "id": "wPRc0VfPCRuk"
      },
      "execution_count": null,
      "outputs": []
    },
    {
      "cell_type": "markdown",
      "metadata": {
        "id": "uftEXcwzUxO6"
      },
      "source": [
        "### Evaluation Function\n",
        "\n",
        "Write your own evaluation function `read_csv_and_predict(csv_path)`.\n",
        "\n",
        "\n",
        "    read_csv_and_predict(csv_path)\n",
        "\n",
        "      Reads values from csv_path and predicts DX_bl, ADAS11, ADAS13, MMSE values.\n",
        "\n",
        "      Parameters\n",
        "      ----------\n",
        "      csv_path : str\n",
        "          Path to the test dataset.\n",
        "    \n",
        "      Returns\n",
        "      -------\n",
        "      predictions: dict\n",
        "          Dictionary with keys (DX_bl, ADAS11, ADAS13, MMSE) and their corresponding prediction values.\n",
        "          DX_bl should be a probability with the shape of (N, 3)\n",
        "          ADAS11, ADAS13, and MMSE should be the shape of (N,) or (N, 1)\n",
        "\n"
      ]
    },
    {
      "cell_type": "markdown",
      "source": [
        "A minimal example code for your reference\n",
        "\n",
        "```python\n",
        "from google.colab import files\n",
        "import joblib\n",
        "\n",
        "model_files = files.upload() # You can upload multiple files at once. If there are any problems uploading, try uploading to Colab directly using the file explorer in the sidebar.\n",
        "\n",
        "clf = joblib.load(\"clf.pkl\")\n",
        "reg1 = joblib.load(\"reg1.pkl\")\n",
        "reg2 = joblib.load(\"reg2.pkl\")\n",
        "reg3 = joblib.load(\"reg3.pkl\")\n",
        "\n",
        "def read_csv_and_predict(csv_path):\n",
        "    import pandas as pd\n",
        "    train_df = pd.read_csv(csv_path)\n",
        "    X = train_df[[c for c in train_df.columns if c not in ['DX_bl', 'ADAS11', 'ADAS13', 'MMSE']]]\n",
        "\n",
        "    X = X.fillna(0)\n",
        "\n",
        "    predictions = {}\n",
        "\n",
        "    predictions[\"DX_bl\"] = clf.predict_proba(X)\n",
        "    predictions[\"ADAS11\"] = reg1.predict(X)\n",
        "    predictions[\"ADAS13\"] = reg2.predict(X)\n",
        "    predictions[\"MMSE\"] = reg3.predict(X)\n",
        "    \n",
        "    return predictions\n",
        "```"
      ],
      "metadata": {
        "id": "GTZ8TZWqIiqP"
      }
    },
    {
      "cell_type": "code",
      "source": [
        "import pickle\n",
        "import joblib\n",
        "import io\n",
        "import os"
      ],
      "metadata": {
        "id": "2EHVlrbs-JjQ"
      },
      "execution_count": null,
      "outputs": []
    },
    {
      "cell_type": "code",
      "source": [
        "from google.colab import drive\n",
        "drive.mount('/content/drive/')"
      ],
      "metadata": {
        "colab": {
          "base_uri": "https://localhost:8080/"
        },
        "id": "eYlGwfEJrpUT",
        "outputId": "7f3bb9c5-26c3-4da3-955c-2b7d9d949970"
      },
      "execution_count": null,
      "outputs": [
        {
          "output_type": "stream",
          "name": "stdout",
          "text": [
            "Mounted at /content/drive/\n"
          ]
        }
      ]
    },
    {
      "cell_type": "code",
      "source": [
        "!ls"
      ],
      "metadata": {
        "colab": {
          "base_uri": "https://localhost:8080/"
        },
        "id": "yKUpGgfRUYO8",
        "outputId": "f4e75172-85d7-457e-e3cf-addbc14b0328"
      },
      "execution_count": null,
      "outputs": [
        {
          "output_type": "stream",
          "name": "stdout",
          "text": [
            "drive  sample_data\n"
          ]
        }
      ]
    },
    {
      "cell_type": "code",
      "source": [
        "from google.colab import files\n",
        "\n",
        "model_files = files.upload()"
      ],
      "metadata": {
        "colab": {
          "resources": {
            "http://localhost:8080/nbextensions/google.colab/files.js": {
              "data": "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",
              "ok": true,
              "headers": [
                [
                  "content-type",
                  "application/javascript"
                ]
              ],
              "status": 200,
              "status_text": ""
            }
          },
          "base_uri": "https://localhost:8080/",
          "height": 148
        },
        "id": "jh-raZ_br3uj",
        "outputId": "a8fa18af-6bac-45be-fc00-425c918da09e"
      },
      "execution_count": null,
      "outputs": [
        {
          "output_type": "display_data",
          "data": {
            "text/plain": [
              "<IPython.core.display.HTML object>"
            ],
            "text/html": [
              "\n",
              "     <input type=\"file\" id=\"files-8a0dfa85-7c5b-48d1-9f2d-c20dfed81191\" name=\"files[]\" multiple disabled\n",
              "        style=\"border:none\" />\n",
              "     <output id=\"result-8a0dfa85-7c5b-48d1-9f2d-c20dfed81191\">\n",
              "      Upload widget is only available when the cell has been executed in the\n",
              "      current browser session. Please rerun this cell to enable.\n",
              "      </output>\n",
              "      <script src=\"/nbextensions/google.colab/files.js\"></script> "
            ]
          },
          "metadata": {}
        },
        {
          "output_type": "stream",
          "name": "stdout",
          "text": [
            "Saving evaluation_cls_script_2020511038.ipynb to evaluation_cls_script_2020511038.ipynb\n",
            "Saving midterm_cls_project_2020511038.ipynb to midterm_cls_project_2020511038.ipynb\n",
            "Saving saved_tsv.pkl to saved_tsv.pkl\n"
          ]
        }
      ]
    },
    {
      "cell_type": "code",
      "source": [
        "currentPath = os.getcwd()\n",
        "os.listdir(currentPath)"
      ],
      "metadata": {
        "colab": {
          "base_uri": "https://localhost:8080/"
        },
        "id": "tMXTKbTyWIax",
        "outputId": "15893ef4-166b-4f62-f7b0-c3de21d80101"
      },
      "execution_count": null,
      "outputs": [
        {
          "output_type": "execute_result",
          "data": {
            "text/plain": [
              "['.config',\n",
              " 'evaluation_cls_script_2020511038.ipynb',\n",
              " 'midterm_cls_project_2020511038.ipynb',\n",
              " 'drive',\n",
              " 'saved_tsv.pkl',\n",
              " 'sample_data']"
            ]
          },
          "metadata": {},
          "execution_count": 7
        }
      ]
    },
    {
      "cell_type": "code",
      "source": [
        "filename = 'saved_tsv.pkl'\n",
        "\n",
        "loaded = joblib.load(filename)\n",
        "\n",
        "#result = loaded.score(test_xs, test_y)\n",
        "#print(result)"
      ],
      "metadata": {
        "id": "SdIcxPGX-Glr"
      },
      "execution_count": null,
      "outputs": []
    },
    {
      "cell_type": "code",
      "source": [
        "def read_csv_and_predict(csv_path):\n",
        "    import pandas as pd\n",
        "    train_df = pd.read_csv(csv_path)\n",
        "    X = train_df[[c for c in train_df.columns if c not in [\"DX_bl\", \"ADAS11\",\"ADAS13\",\"MMSE\",\"ST123CV\",\"ST64CV\",\"ST123TA\",\"ST64TA\"]]]\n",
        "\n",
        "    X = X.fillna(0)\n",
        "\n",
        "    predictions = {}\n",
        "\n",
        "    predictions[\"DX_bl\"] = loaded.predict_proba(X)\n",
        "\n",
        "    return predictions"
      ],
      "metadata": {
        "id": "D8x7N01zcxht"
      },
      "execution_count": null,
      "outputs": []
    },
    {
      "cell_type": "markdown",
      "metadata": {
        "id": "__Wj51czS1ad"
      },
      "source": [
        "# Evaluation Script (DO NOT EDIT)\n",
        "\n",
        "DO NOT ADD/REMOVE/EDIT CELLS FROM THIS POINT.<br>The below code should run as-is without any modification.\n",
        "\n",
        "When successful, you should get prompts for downloading csv files named:\n",
        "1. `dummy_test_data_1_STUDENT_ID.csv`\n",
        "2. `dummy_test_data_2_STUDENT_ID.csv`\n",
        "3. `dummy_test_data_3_STUDENT_ID.csv`\n",
        "\n",
        "These files should have `DX_bl`, `ADAS11`, `ADAS13`, `MMSE` columns filled and `DX_bl_0`, `DX_bl_1`, `DX_bl_2` columns inserted.\n",
        "\n",
        "If your code does not output these csv files, you WILL get 0 points.<br>Contact the TA (ljelje415@korea.ac.kr, ksohh@korea.ac.kr) if you have any questions. \n"
      ]
    },
    {
      "cell_type": "code",
      "source": [
        "## DO NOT EDIT THIS CODE ###\n",
        "import urllib.request\n",
        "import hashlib\n",
        "import os\n",
        "DATA_URL = ['https://raw.githubusercontent.com/wltjr1007/wltjr1007.github.io/master/class_datasets/midterm/dummy_test_data_1.csv',\n",
        "             'https://raw.githubusercontent.com/wltjr1007/wltjr1007.github.io/master/class_datasets/midterm/dummy_test_data_2.csv',\n",
        "             'https://raw.githubusercontent.com/wltjr1007/wltjr1007.github.io/master/class_datasets/midterm/dummy_test_data_3.csv']\n",
        "DATA_PATH = ['/content/dummy_test_data_1.csv', '/content/dummy_test_data_2.csv', '/content/dummy_test_data_3.csv']\n",
        "DATA_MD5 = ['2614ecc8bf50be8df9c6698b66873372','ef6e484dc69714589766f829b3d36b38','5f9ce18c816922af6a72a3604ae103de']\n",
        "\n",
        "def download_data_from_url(pth, url):\n",
        "    urllib.request.urlretrieve(url, pth)\n",
        "\n",
        "def check_data_consistency(pth, md5):\n",
        "    with open(pth, \"rb\") as f:\n",
        "        data = f.read()\n",
        "    assert hashlib.md5(data).hexdigest()==md5, \"Data is not correct. Reset Colab using Ctrl+F12 and rerun this code.\"\n",
        "\n",
        "for url, pth, md5 in zip(DATA_URL, DATA_PATH, DATA_MD5):\n",
        "    if not os.path.exists(pth):\n",
        "        download_data_from_url(pth, url)\n",
        "    check_data_consistency(pth, md5)\n",
        "\n",
        "print(\"Dummy Test Data Fetched!\")\n",
        "## DO NOT EDIT THIS CODE ###"
      ],
      "metadata": {
        "id": "uGimw_9r-Arl",
        "colab": {
          "base_uri": "https://localhost:8080/"
        },
        "outputId": "06bee949-9efa-4e70-9c1c-3bda333b81b0"
      },
      "execution_count": null,
      "outputs": [
        {
          "output_type": "stream",
          "name": "stdout",
          "text": [
            "Dummy Test Data Fetched!\n"
          ]
        }
      ]
    },
    {
      "cell_type": "code",
      "metadata": {
        "id": "q-LO19reTXFj",
        "colab": {
          "base_uri": "https://localhost:8080/",
          "height": 17
        },
        "outputId": "1aff63b4-9698-434a-f957-071c071ae578"
      },
      "source": [
        "## DO NOT EDIT THIS CODE ###\n",
        "import os\n",
        "import numpy as np\n",
        "from google.colab import files\n",
        "import pandas as pd\n",
        "\n",
        "\n",
        "assert len(Student_ID)!=0, \"Insert your student ID in the first cell of this template\"\n",
        "\n",
        "def check_predictions(pred, data_cnt):\n",
        "    pred[\"DX_bl\"] = np.array(pred[\"DX_bl\"], dtype=np.float32)\n",
        "    #pred[\"ADAS11\"] = np.array(pred[\"ADAS11\"], dtype=np.float32).squeeze()\n",
        "    #pred[\"ADAS13\"] = np.array(pred[\"ADAS13\"], dtype=np.float32).squeeze()\n",
        "    #pred[\"MMSE\"] = np.array(pred[\"MMSE\"], dtype=np.float32).squeeze()\n",
        "    \n",
        "    assert pred[\"DX_bl\"].shape==(data_cnt,3), \"[Classifier prediction must be a probability] DX_bl shape must be (N, 3).\"\n",
        "    if not np.allclose(np.sum(pred[\"DX_bl\"],axis=-1), 1, atol=0.04):\n",
        "        print(\"Warning: Sum of the probabilities should equal to 1.\")\n",
        "    \n",
        "    #assert pred[\"ADAS11\"].shape ==(data_cnt,), \"ADAS11 shape must be (N,) or (N, 1)\"\n",
        "    #assert pred[\"ADAS13\"].shape ==(data_cnt,), \"ADAS13 shape must be (N,) or (N, 1)\"\n",
        "    #assert pred[\"MMSE\"].shape ==(data_cnt,), \"MMSE shape must be (N,) or (N, 1)\"\n",
        "\n",
        "    return pred\n",
        "\n",
        "for pth in DATA_PATH:\n",
        "    predictions = read_csv_and_predict(csv_path=pth)\n",
        "\n",
        "    csv_data = pd.read_csv(pth)\n",
        "\n",
        "    predictions = check_predictions(pred=predictions, data_cnt=len(csv_data[\"DX_bl\"]))\n",
        "    \n",
        "    csv_data[\"DX_bl\"] = np.argmax(predictions[\"DX_bl\"], axis=-1)\n",
        "    csv_data.insert(4, \"DX_bl_0\", predictions[\"DX_bl\"][:, 0])\n",
        "    csv_data.insert(5, \"DX_bl_1\", predictions[\"DX_bl\"][:, 1])\n",
        "    csv_data.insert(6, \"DX_bl_2\", predictions[\"DX_bl\"][:, 2])\n",
        "\n",
        "    #csv_data[\"ADAS11\"] = predictions[\"ADAS11\"]\n",
        "    #csv_data[\"ADAS13\"] = predictions[\"ADAS13\"]\n",
        "    #csv_data[\"MMSE\"] = predictions[\"MMSE\"]\n",
        "\n",
        "    csv_data.to_csv(pth.replace('.csv',f'_{Student_ID}.csv'), index=False)\n",
        "\n",
        "for pth in DATA_PATH:\n",
        "    files.download(pth.replace('.csv',f'_{Student_ID}.csv'))\n",
        "## DO NOT EDIT THIS CODE ###"
      ],
      "execution_count": null,
      "outputs": [
        {
          "output_type": "display_data",
          "data": {
            "text/plain": [
              "<IPython.core.display.Javascript object>"
            ],
            "application/javascript": [
              "\n",
              "    async function download(id, filename, size) {\n",
              "      if (!google.colab.kernel.accessAllowed) {\n",
              "        return;\n",
              "      }\n",
              "      const div = document.createElement('div');\n",
              "      const label = document.createElement('label');\n",
              "      label.textContent = `Downloading \"${filename}\": `;\n",
              "      div.appendChild(label);\n",
              "      const progress = document.createElement('progress');\n",
              "      progress.max = size;\n",
              "      div.appendChild(progress);\n",
              "      document.body.appendChild(div);\n",
              "\n",
              "      const buffers = [];\n",
              "      let downloaded = 0;\n",
              "\n",
              "      const channel = await google.colab.kernel.comms.open(id);\n",
              "      // Send a message to notify the kernel that we're ready.\n",
              "      channel.send({})\n",
              "\n",
              "      for await (const message of channel.messages) {\n",
              "        // Send a message to notify the kernel that we're ready.\n",
              "        channel.send({})\n",
              "        if (message.buffers) {\n",
              "          for (const buffer of message.buffers) {\n",
              "            buffers.push(buffer);\n",
              "            downloaded += buffer.byteLength;\n",
              "            progress.value = downloaded;\n",
              "          }\n",
              "        }\n",
              "      }\n",
              "      const blob = new Blob(buffers, {type: 'application/binary'});\n",
              "      const a = document.createElement('a');\n",
              "      a.href = window.URL.createObjectURL(blob);\n",
              "      a.download = filename;\n",
              "      div.appendChild(a);\n",
              "      a.click();\n",
              "      div.remove();\n",
              "    }\n",
              "  "
            ]
          },
          "metadata": {}
        },
        {
          "output_type": "display_data",
          "data": {
            "text/plain": [
              "<IPython.core.display.Javascript object>"
            ],
            "application/javascript": [
              "download(\"download_85a074e5-4506-41e6-a5bb-f9d79b7a1a4d\", \"dummy_test_data_1_2020511038.csv\", 9064)"
            ]
          },
          "metadata": {}
        },
        {
          "output_type": "display_data",
          "data": {
            "text/plain": [
              "<IPython.core.display.Javascript object>"
            ],
            "application/javascript": [
              "\n",
              "    async function download(id, filename, size) {\n",
              "      if (!google.colab.kernel.accessAllowed) {\n",
              "        return;\n",
              "      }\n",
              "      const div = document.createElement('div');\n",
              "      const label = document.createElement('label');\n",
              "      label.textContent = `Downloading \"${filename}\": `;\n",
              "      div.appendChild(label);\n",
              "      const progress = document.createElement('progress');\n",
              "      progress.max = size;\n",
              "      div.appendChild(progress);\n",
              "      document.body.appendChild(div);\n",
              "\n",
              "      const buffers = [];\n",
              "      let downloaded = 0;\n",
              "\n",
              "      const channel = await google.colab.kernel.comms.open(id);\n",
              "      // Send a message to notify the kernel that we're ready.\n",
              "      channel.send({})\n",
              "\n",
              "      for await (const message of channel.messages) {\n",
              "        // Send a message to notify the kernel that we're ready.\n",
              "        channel.send({})\n",
              "        if (message.buffers) {\n",
              "          for (const buffer of message.buffers) {\n",
              "            buffers.push(buffer);\n",
              "            downloaded += buffer.byteLength;\n",
              "            progress.value = downloaded;\n",
              "          }\n",
              "        }\n",
              "      }\n",
              "      const blob = new Blob(buffers, {type: 'application/binary'});\n",
              "      const a = document.createElement('a');\n",
              "      a.href = window.URL.createObjectURL(blob);\n",
              "      a.download = filename;\n",
              "      div.appendChild(a);\n",
              "      a.click();\n",
              "      div.remove();\n",
              "    }\n",
              "  "
            ]
          },
          "metadata": {}
        },
        {
          "output_type": "display_data",
          "data": {
            "text/plain": [
              "<IPython.core.display.Javascript object>"
            ],
            "application/javascript": [
              "download(\"download_d32a3d2d-07a4-441c-b480-9b79c943e439\", \"dummy_test_data_2_2020511038.csv\", 41359)"
            ]
          },
          "metadata": {}
        },
        {
          "output_type": "display_data",
          "data": {
            "text/plain": [
              "<IPython.core.display.Javascript object>"
            ],
            "application/javascript": [
              "\n",
              "    async function download(id, filename, size) {\n",
              "      if (!google.colab.kernel.accessAllowed) {\n",
              "        return;\n",
              "      }\n",
              "      const div = document.createElement('div');\n",
              "      const label = document.createElement('label');\n",
              "      label.textContent = `Downloading \"${filename}\": `;\n",
              "      div.appendChild(label);\n",
              "      const progress = document.createElement('progress');\n",
              "      progress.max = size;\n",
              "      div.appendChild(progress);\n",
              "      document.body.appendChild(div);\n",
              "\n",
              "      const buffers = [];\n",
              "      let downloaded = 0;\n",
              "\n",
              "      const channel = await google.colab.kernel.comms.open(id);\n",
              "      // Send a message to notify the kernel that we're ready.\n",
              "      channel.send({})\n",
              "\n",
              "      for await (const message of channel.messages) {\n",
              "        // Send a message to notify the kernel that we're ready.\n",
              "        channel.send({})\n",
              "        if (message.buffers) {\n",
              "          for (const buffer of message.buffers) {\n",
              "            buffers.push(buffer);\n",
              "            downloaded += buffer.byteLength;\n",
              "            progress.value = downloaded;\n",
              "          }\n",
              "        }\n",
              "      }\n",
              "      const blob = new Blob(buffers, {type: 'application/binary'});\n",
              "      const a = document.createElement('a');\n",
              "      a.href = window.URL.createObjectURL(blob);\n",
              "      a.download = filename;\n",
              "      div.appendChild(a);\n",
              "      a.click();\n",
              "      div.remove();\n",
              "    }\n",
              "  "
            ]
          },
          "metadata": {}
        },
        {
          "output_type": "display_data",
          "data": {
            "text/plain": [
              "<IPython.core.display.Javascript object>"
            ],
            "application/javascript": [
              "download(\"download_06beb99b-513d-485e-ad75-017caaeae693\", \"dummy_test_data_3_2020511038.csv\", 81870)"
            ]
          },
          "metadata": {}
        }
      ]
    }
  ]
}