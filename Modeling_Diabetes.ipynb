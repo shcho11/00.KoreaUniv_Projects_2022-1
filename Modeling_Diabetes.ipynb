{
  "nbformat": 4,
  "nbformat_minor": 0,
  "metadata": {
    "colab": {
      "name": "Modeling_Diabetes.ipynb",
      "provenance": [],
      "collapsed_sections": [],
      "include_colab_link": true
    },
    "kernelspec": {
      "name": "python3",
      "display_name": "Python 3"
    },
    "language_info": {
      "name": "python"
    }
  },
  "cells": [
    {
      "cell_type": "markdown",
      "metadata": {
        "id": "view-in-github",
        "colab_type": "text"
      },
      "source": [
        "<a href=\"https://colab.research.google.com/github/shcho11/00.ML_Practices_2022_School/blob/main/Modeling_Diabetes.ipynb\" target=\"_parent\"><img src=\"https://colab.research.google.com/assets/colab-badge.svg\" alt=\"Open In Colab\"/></a>"
      ]
    },
    {
      "cell_type": "markdown",
      "source": [
        "## Modeling Practices @ '기계학습' 수업\n",
        "<ul>\n",
        "  <li> Diabetes Dataset 사용 </li>\n",
        "  <li> 코드작성 : 조송현 </li>\n",
        "</ul>"
      ],
      "metadata": {
        "id": "BcI87hx34eFY"
      }
    },
    {
      "cell_type": "markdown",
      "source": [
        "* [Memo] when it comes to this Assignment : \n",
        "  - additional task :  \"improving score(R2)\" and \"overcoming Overfitting problem\" at the same time\n",
        "  - To_do : alter ways of Preprocessing, Trying Cross-validation, Grid Search instead of Random search, Setting hyperparameters  "
      ],
      "metadata": {
        "id": "i6RcnIei6ijk"
      }
    },
    {
      "cell_type": "code",
      "source": [
        "from google.colab import drive\n",
        "drive.mount('/content/drive/')"
      ],
      "metadata": {
        "colab": {
          "base_uri": "https://localhost:8080/"
        },
        "id": "ndwkOGPYdwaN",
        "outputId": "3f82a230-ad62-48cd-8420-dbb478b0c95d"
      },
      "execution_count": null,
      "outputs": [
        {
          "output_type": "stream",
          "name": "stdout",
          "text": [
            "Mounted at /content/drive/\n"
          ]
        }
      ]
    },
    {
      "cell_type": "code",
      "source": [
        "!head /proc/cpuinfo"
      ],
      "metadata": {
        "colab": {
          "base_uri": "https://localhost:8080/"
        },
        "id": "FM_3v9UxeFxs",
        "outputId": "f1790fec-7599-46fa-8d05-4c8f055b4186"
      },
      "execution_count": null,
      "outputs": [
        {
          "output_type": "stream",
          "name": "stdout",
          "text": [
            "processor\t: 0\n",
            "vendor_id\t: GenuineIntel\n",
            "cpu family\t: 6\n",
            "model\t\t: 79\n",
            "model name\t: Intel(R) Xeon(R) CPU @ 2.20GHz\n",
            "stepping\t: 0\n",
            "microcode\t: 0x1\n",
            "cpu MHz\t\t: 2199.998\n",
            "cache size\t: 56320 KB\n",
            "physical id\t: 0\n"
          ]
        }
      ]
    },
    {
      "cell_type": "markdown",
      "source": [
        "# Prepare the Dataset\n",
        "\n",
        "We will be using a publicly open diabetes dataset.\n",
        "\n",
        "We thank BRFSS 2015 organizers for preparing the dataset and Alex Teboul for cleaning it.\n",
        "\n",
        "Please refer to this [link](https://www.kaggle.com/datasets/alexteboul/diabetes-health-indicators-dataset) for more information on the dataset (e.g., descriptions of each column)."
      ],
      "metadata": {
        "id": "qVvKL0sp6bch"
      }
    },
    {
      "cell_type": "code",
      "source": [
        "import numpy as np\n",
        "import pandas as pd\n",
        "import os\n",
        "import hashlib\n",
        "import urllib.request\n",
        "\n",
        "#### Include any librarys you need to import here ###\n",
        "\n",
        "# Python ≥3.5 is required\n",
        "import sys\n",
        "assert sys.version_info >= (3, 5)\n",
        "# Scikit-Learn ≥0.20 is required\n",
        "import sklearn\n",
        "assert sklearn.__version__ >= \"0.20\"\n",
        "# To plot pretty figures directly within Jupyter\n",
        "%matplotlib inline\n",
        "import matplotlib as mpl\n",
        "np.random.seed(20220324)\n",
        "\n",
        "#### Include any librarys you need to import here ###"
      ],
      "metadata": {
        "id": "wtQQsnW5676z"
      },
      "execution_count": null,
      "outputs": []
    },
    {
      "cell_type": "code",
      "source": [
        "DATA_URL = 'https://raw.githubusercontent.com/wltjr1007/wltjr1007.github.io/master/class_datasets/diabetes.csv'\n",
        "DATA_MD5 = '0c84b09d240b72e8180bceff3965d1bd'\n",
        "DATA_PATH = '/content/diabetes.csv'\n",
        "def fetch_diabetes_data():\n",
        "    def download_data_from_url():\n",
        "        urllib.request.urlretrieve(DATA_URL, DATA_PATH) # download dataset\n",
        "    \n",
        "    def check_data_consistency():\n",
        "        with open(\"diabetes.csv\", \"rb\") as f: # open csv file\n",
        "            data = f.read()\n",
        "        assert hashlib.md5(data).hexdigest()==DATA_MD5, \"Data is not correct. Reset Colab using Ctrl+F12 and rerun this code.\"\n",
        "\n",
        "    if not os.path.exists(DATA_PATH):\n",
        "        download_data_from_url()\n",
        "    check_data_consistency()\n",
        "    print(\"Data is fetched!\")\n",
        "\n",
        "fetch_diabetes_data()\n",
        "\n",
        "all_data = pd.read_csv(DATA_PATH) # read csv\n",
        "all_data_size = len(all_data) # len of data\n",
        "\n",
        "missing_data = all_data.to_numpy().copy() # all_data를 numpy배열로 바꾼 다음 사본으로 생성\n",
        "\n",
        "for i in np.random.choice(all_data_size, 1000): #모집단 all_data_size에서 1000개 임의표본추출\n",
        "    j = np.random.randint(0,22) # 정수 난수생성\n",
        "    missing_data[i,j] = np.nan "
      ],
      "metadata": {
        "id": "HyaSE0r76K3W",
        "colab": {
          "base_uri": "https://localhost:8080/"
        },
        "outputId": "42cdd9f1-5423-4faa-b893-ad5fe62d080e"
      },
      "execution_count": null,
      "outputs": [
        {
          "output_type": "stream",
          "name": "stdout",
          "text": [
            "Data is fetched!\n"
          ]
        }
      ]
    },
    {
      "cell_type": "markdown",
      "source": [
        "<h3>Task 1) Density Histogram of BMI</h3>\n",
        "<ul>\n",
        "  <li>BMI 수준별 % 비중을 히스토그램으로 나타내었음. </li>\n",
        "</ul>"
      ],
      "metadata": {
        "id": "ACU3tkR-CGll"
      }
    },
    {
      "cell_type": "code",
      "source": [
        "all_data = pd.DataFrame(all_data)\n",
        "all_data"
      ],
      "metadata": {
        "colab": {
          "base_uri": "https://localhost:8080/",
          "height": 424
        },
        "id": "irqHR-edqKFA",
        "outputId": "be486efe-9f34-42cb-93ad-ebf6e2667c5a"
      },
      "execution_count": null,
      "outputs": [
        {
          "output_type": "execute_result",
          "data": {
            "text/plain": [
              "        Diabetes_012  HighBP  HighChol  CholCheck   BMI  Smoker  Stroke  \\\n",
              "0                0.0     1.0       1.0        1.0  40.0     1.0     0.0   \n",
              "1                0.0     0.0       0.0        0.0  25.0     1.0     0.0   \n",
              "2                0.0     1.0       1.0        1.0  28.0     0.0     0.0   \n",
              "3                0.0     1.0       0.0        1.0  27.0     0.0     0.0   \n",
              "4                0.0     1.0       1.0        1.0  24.0     0.0     0.0   \n",
              "...              ...     ...       ...        ...   ...     ...     ...   \n",
              "253675           0.0     1.0       1.0        1.0  45.0     0.0     0.0   \n",
              "253676           2.0     1.0       1.0        1.0  18.0     0.0     0.0   \n",
              "253677           0.0     0.0       0.0        1.0  28.0     0.0     0.0   \n",
              "253678           0.0     1.0       0.0        1.0  23.0     0.0     0.0   \n",
              "253679           2.0     1.0       1.0        1.0  25.0     0.0     0.0   \n",
              "\n",
              "        HeartDiseaseorAttack  PhysActivity  Fruits  ...  AnyHealthcare  \\\n",
              "0                        0.0           0.0     0.0  ...            1.0   \n",
              "1                        0.0           1.0     0.0  ...            0.0   \n",
              "2                        0.0           0.0     1.0  ...            1.0   \n",
              "3                        0.0           1.0     1.0  ...            1.0   \n",
              "4                        0.0           1.0     1.0  ...            1.0   \n",
              "...                      ...           ...     ...  ...            ...   \n",
              "253675                   0.0           0.0     1.0  ...            1.0   \n",
              "253676                   0.0           0.0     0.0  ...            1.0   \n",
              "253677                   0.0           1.0     1.0  ...            1.0   \n",
              "253678                   0.0           0.0     1.0  ...            1.0   \n",
              "253679                   1.0           1.0     1.0  ...            1.0   \n",
              "\n",
              "        NoDocbcCost  GenHlth  MentHlth  PhysHlth  DiffWalk  Sex   Age  \\\n",
              "0               0.0      5.0      18.0      15.0       1.0  0.0   9.0   \n",
              "1               1.0      3.0       0.0       0.0       0.0  0.0   7.0   \n",
              "2               1.0      5.0      30.0      30.0       1.0  0.0   9.0   \n",
              "3               0.0      2.0       0.0       0.0       0.0  0.0  11.0   \n",
              "4               0.0      2.0       3.0       0.0       0.0  0.0  11.0   \n",
              "...             ...      ...       ...       ...       ...  ...   ...   \n",
              "253675          0.0      3.0       0.0       5.0       0.0  1.0   5.0   \n",
              "253676          0.0      4.0       0.0       0.0       1.0  0.0  11.0   \n",
              "253677          0.0      1.0       0.0       0.0       0.0  0.0   2.0   \n",
              "253678          0.0      3.0       0.0       0.0       0.0  1.0   7.0   \n",
              "253679          0.0      2.0       0.0       0.0       0.0  0.0   9.0   \n",
              "\n",
              "        Education  Income  \n",
              "0             4.0     3.0  \n",
              "1             6.0     1.0  \n",
              "2             4.0     8.0  \n",
              "3             3.0     6.0  \n",
              "4             5.0     4.0  \n",
              "...           ...     ...  \n",
              "253675        6.0     7.0  \n",
              "253676        2.0     4.0  \n",
              "253677        5.0     2.0  \n",
              "253678        5.0     1.0  \n",
              "253679        6.0     2.0  \n",
              "\n",
              "[253680 rows x 22 columns]"
            ],
            "text/html": [
              "\n",
              "  <div id=\"df-0e2c12e1-5852-42c8-af0e-947f34c11105\">\n",
              "    <div class=\"colab-df-container\">\n",
              "      <div>\n",
              "<style scoped>\n",
              "    .dataframe tbody tr th:only-of-type {\n",
              "        vertical-align: middle;\n",
              "    }\n",
              "\n",
              "    .dataframe tbody tr th {\n",
              "        vertical-align: top;\n",
              "    }\n",
              "\n",
              "    .dataframe thead th {\n",
              "        text-align: right;\n",
              "    }\n",
              "</style>\n",
              "<table border=\"1\" class=\"dataframe\">\n",
              "  <thead>\n",
              "    <tr style=\"text-align: right;\">\n",
              "      <th></th>\n",
              "      <th>Diabetes_012</th>\n",
              "      <th>HighBP</th>\n",
              "      <th>HighChol</th>\n",
              "      <th>CholCheck</th>\n",
              "      <th>BMI</th>\n",
              "      <th>Smoker</th>\n",
              "      <th>Stroke</th>\n",
              "      <th>HeartDiseaseorAttack</th>\n",
              "      <th>PhysActivity</th>\n",
              "      <th>Fruits</th>\n",
              "      <th>...</th>\n",
              "      <th>AnyHealthcare</th>\n",
              "      <th>NoDocbcCost</th>\n",
              "      <th>GenHlth</th>\n",
              "      <th>MentHlth</th>\n",
              "      <th>PhysHlth</th>\n",
              "      <th>DiffWalk</th>\n",
              "      <th>Sex</th>\n",
              "      <th>Age</th>\n",
              "      <th>Education</th>\n",
              "      <th>Income</th>\n",
              "    </tr>\n",
              "  </thead>\n",
              "  <tbody>\n",
              "    <tr>\n",
              "      <th>0</th>\n",
              "      <td>0.0</td>\n",
              "      <td>1.0</td>\n",
              "      <td>1.0</td>\n",
              "      <td>1.0</td>\n",
              "      <td>40.0</td>\n",
              "      <td>1.0</td>\n",
              "      <td>0.0</td>\n",
              "      <td>0.0</td>\n",
              "      <td>0.0</td>\n",
              "      <td>0.0</td>\n",
              "      <td>...</td>\n",
              "      <td>1.0</td>\n",
              "      <td>0.0</td>\n",
              "      <td>5.0</td>\n",
              "      <td>18.0</td>\n",
              "      <td>15.0</td>\n",
              "      <td>1.0</td>\n",
              "      <td>0.0</td>\n",
              "      <td>9.0</td>\n",
              "      <td>4.0</td>\n",
              "      <td>3.0</td>\n",
              "    </tr>\n",
              "    <tr>\n",
              "      <th>1</th>\n",
              "      <td>0.0</td>\n",
              "      <td>0.0</td>\n",
              "      <td>0.0</td>\n",
              "      <td>0.0</td>\n",
              "      <td>25.0</td>\n",
              "      <td>1.0</td>\n",
              "      <td>0.0</td>\n",
              "      <td>0.0</td>\n",
              "      <td>1.0</td>\n",
              "      <td>0.0</td>\n",
              "      <td>...</td>\n",
              "      <td>0.0</td>\n",
              "      <td>1.0</td>\n",
              "      <td>3.0</td>\n",
              "      <td>0.0</td>\n",
              "      <td>0.0</td>\n",
              "      <td>0.0</td>\n",
              "      <td>0.0</td>\n",
              "      <td>7.0</td>\n",
              "      <td>6.0</td>\n",
              "      <td>1.0</td>\n",
              "    </tr>\n",
              "    <tr>\n",
              "      <th>2</th>\n",
              "      <td>0.0</td>\n",
              "      <td>1.0</td>\n",
              "      <td>1.0</td>\n",
              "      <td>1.0</td>\n",
              "      <td>28.0</td>\n",
              "      <td>0.0</td>\n",
              "      <td>0.0</td>\n",
              "      <td>0.0</td>\n",
              "      <td>0.0</td>\n",
              "      <td>1.0</td>\n",
              "      <td>...</td>\n",
              "      <td>1.0</td>\n",
              "      <td>1.0</td>\n",
              "      <td>5.0</td>\n",
              "      <td>30.0</td>\n",
              "      <td>30.0</td>\n",
              "      <td>1.0</td>\n",
              "      <td>0.0</td>\n",
              "      <td>9.0</td>\n",
              "      <td>4.0</td>\n",
              "      <td>8.0</td>\n",
              "    </tr>\n",
              "    <tr>\n",
              "      <th>3</th>\n",
              "      <td>0.0</td>\n",
              "      <td>1.0</td>\n",
              "      <td>0.0</td>\n",
              "      <td>1.0</td>\n",
              "      <td>27.0</td>\n",
              "      <td>0.0</td>\n",
              "      <td>0.0</td>\n",
              "      <td>0.0</td>\n",
              "      <td>1.0</td>\n",
              "      <td>1.0</td>\n",
              "      <td>...</td>\n",
              "      <td>1.0</td>\n",
              "      <td>0.0</td>\n",
              "      <td>2.0</td>\n",
              "      <td>0.0</td>\n",
              "      <td>0.0</td>\n",
              "      <td>0.0</td>\n",
              "      <td>0.0</td>\n",
              "      <td>11.0</td>\n",
              "      <td>3.0</td>\n",
              "      <td>6.0</td>\n",
              "    </tr>\n",
              "    <tr>\n",
              "      <th>4</th>\n",
              "      <td>0.0</td>\n",
              "      <td>1.0</td>\n",
              "      <td>1.0</td>\n",
              "      <td>1.0</td>\n",
              "      <td>24.0</td>\n",
              "      <td>0.0</td>\n",
              "      <td>0.0</td>\n",
              "      <td>0.0</td>\n",
              "      <td>1.0</td>\n",
              "      <td>1.0</td>\n",
              "      <td>...</td>\n",
              "      <td>1.0</td>\n",
              "      <td>0.0</td>\n",
              "      <td>2.0</td>\n",
              "      <td>3.0</td>\n",
              "      <td>0.0</td>\n",
              "      <td>0.0</td>\n",
              "      <td>0.0</td>\n",
              "      <td>11.0</td>\n",
              "      <td>5.0</td>\n",
              "      <td>4.0</td>\n",
              "    </tr>\n",
              "    <tr>\n",
              "      <th>...</th>\n",
              "      <td>...</td>\n",
              "      <td>...</td>\n",
              "      <td>...</td>\n",
              "      <td>...</td>\n",
              "      <td>...</td>\n",
              "      <td>...</td>\n",
              "      <td>...</td>\n",
              "      <td>...</td>\n",
              "      <td>...</td>\n",
              "      <td>...</td>\n",
              "      <td>...</td>\n",
              "      <td>...</td>\n",
              "      <td>...</td>\n",
              "      <td>...</td>\n",
              "      <td>...</td>\n",
              "      <td>...</td>\n",
              "      <td>...</td>\n",
              "      <td>...</td>\n",
              "      <td>...</td>\n",
              "      <td>...</td>\n",
              "      <td>...</td>\n",
              "    </tr>\n",
              "    <tr>\n",
              "      <th>253675</th>\n",
              "      <td>0.0</td>\n",
              "      <td>1.0</td>\n",
              "      <td>1.0</td>\n",
              "      <td>1.0</td>\n",
              "      <td>45.0</td>\n",
              "      <td>0.0</td>\n",
              "      <td>0.0</td>\n",
              "      <td>0.0</td>\n",
              "      <td>0.0</td>\n",
              "      <td>1.0</td>\n",
              "      <td>...</td>\n",
              "      <td>1.0</td>\n",
              "      <td>0.0</td>\n",
              "      <td>3.0</td>\n",
              "      <td>0.0</td>\n",
              "      <td>5.0</td>\n",
              "      <td>0.0</td>\n",
              "      <td>1.0</td>\n",
              "      <td>5.0</td>\n",
              "      <td>6.0</td>\n",
              "      <td>7.0</td>\n",
              "    </tr>\n",
              "    <tr>\n",
              "      <th>253676</th>\n",
              "      <td>2.0</td>\n",
              "      <td>1.0</td>\n",
              "      <td>1.0</td>\n",
              "      <td>1.0</td>\n",
              "      <td>18.0</td>\n",
              "      <td>0.0</td>\n",
              "      <td>0.0</td>\n",
              "      <td>0.0</td>\n",
              "      <td>0.0</td>\n",
              "      <td>0.0</td>\n",
              "      <td>...</td>\n",
              "      <td>1.0</td>\n",
              "      <td>0.0</td>\n",
              "      <td>4.0</td>\n",
              "      <td>0.0</td>\n",
              "      <td>0.0</td>\n",
              "      <td>1.0</td>\n",
              "      <td>0.0</td>\n",
              "      <td>11.0</td>\n",
              "      <td>2.0</td>\n",
              "      <td>4.0</td>\n",
              "    </tr>\n",
              "    <tr>\n",
              "      <th>253677</th>\n",
              "      <td>0.0</td>\n",
              "      <td>0.0</td>\n",
              "      <td>0.0</td>\n",
              "      <td>1.0</td>\n",
              "      <td>28.0</td>\n",
              "      <td>0.0</td>\n",
              "      <td>0.0</td>\n",
              "      <td>0.0</td>\n",
              "      <td>1.0</td>\n",
              "      <td>1.0</td>\n",
              "      <td>...</td>\n",
              "      <td>1.0</td>\n",
              "      <td>0.0</td>\n",
              "      <td>1.0</td>\n",
              "      <td>0.0</td>\n",
              "      <td>0.0</td>\n",
              "      <td>0.0</td>\n",
              "      <td>0.0</td>\n",
              "      <td>2.0</td>\n",
              "      <td>5.0</td>\n",
              "      <td>2.0</td>\n",
              "    </tr>\n",
              "    <tr>\n",
              "      <th>253678</th>\n",
              "      <td>0.0</td>\n",
              "      <td>1.0</td>\n",
              "      <td>0.0</td>\n",
              "      <td>1.0</td>\n",
              "      <td>23.0</td>\n",
              "      <td>0.0</td>\n",
              "      <td>0.0</td>\n",
              "      <td>0.0</td>\n",
              "      <td>0.0</td>\n",
              "      <td>1.0</td>\n",
              "      <td>...</td>\n",
              "      <td>1.0</td>\n",
              "      <td>0.0</td>\n",
              "      <td>3.0</td>\n",
              "      <td>0.0</td>\n",
              "      <td>0.0</td>\n",
              "      <td>0.0</td>\n",
              "      <td>1.0</td>\n",
              "      <td>7.0</td>\n",
              "      <td>5.0</td>\n",
              "      <td>1.0</td>\n",
              "    </tr>\n",
              "    <tr>\n",
              "      <th>253679</th>\n",
              "      <td>2.0</td>\n",
              "      <td>1.0</td>\n",
              "      <td>1.0</td>\n",
              "      <td>1.0</td>\n",
              "      <td>25.0</td>\n",
              "      <td>0.0</td>\n",
              "      <td>0.0</td>\n",
              "      <td>1.0</td>\n",
              "      <td>1.0</td>\n",
              "      <td>1.0</td>\n",
              "      <td>...</td>\n",
              "      <td>1.0</td>\n",
              "      <td>0.0</td>\n",
              "      <td>2.0</td>\n",
              "      <td>0.0</td>\n",
              "      <td>0.0</td>\n",
              "      <td>0.0</td>\n",
              "      <td>0.0</td>\n",
              "      <td>9.0</td>\n",
              "      <td>6.0</td>\n",
              "      <td>2.0</td>\n",
              "    </tr>\n",
              "  </tbody>\n",
              "</table>\n",
              "<p>253680 rows × 22 columns</p>\n",
              "</div>\n",
              "      <button class=\"colab-df-convert\" onclick=\"convertToInteractive('df-0e2c12e1-5852-42c8-af0e-947f34c11105')\"\n",
              "              title=\"Convert this dataframe to an interactive table.\"\n",
              "              style=\"display:none;\">\n",
              "        \n",
              "  <svg xmlns=\"http://www.w3.org/2000/svg\" height=\"24px\"viewBox=\"0 0 24 24\"\n",
              "       width=\"24px\">\n",
              "    <path d=\"M0 0h24v24H0V0z\" fill=\"none\"/>\n",
              "    <path d=\"M18.56 5.44l.94 2.06.94-2.06 2.06-.94-2.06-.94-.94-2.06-.94 2.06-2.06.94zm-11 1L8.5 8.5l.94-2.06 2.06-.94-2.06-.94L8.5 2.5l-.94 2.06-2.06.94zm10 10l.94 2.06.94-2.06 2.06-.94-2.06-.94-.94-2.06-.94 2.06-2.06.94z\"/><path d=\"M17.41 7.96l-1.37-1.37c-.4-.4-.92-.59-1.43-.59-.52 0-1.04.2-1.43.59L10.3 9.45l-7.72 7.72c-.78.78-.78 2.05 0 2.83L4 21.41c.39.39.9.59 1.41.59.51 0 1.02-.2 1.41-.59l7.78-7.78 2.81-2.81c.8-.78.8-2.07 0-2.86zM5.41 20L4 18.59l7.72-7.72 1.47 1.35L5.41 20z\"/>\n",
              "  </svg>\n",
              "      </button>\n",
              "      \n",
              "  <style>\n",
              "    .colab-df-container {\n",
              "      display:flex;\n",
              "      flex-wrap:wrap;\n",
              "      gap: 12px;\n",
              "    }\n",
              "\n",
              "    .colab-df-convert {\n",
              "      background-color: #E8F0FE;\n",
              "      border: none;\n",
              "      border-radius: 50%;\n",
              "      cursor: pointer;\n",
              "      display: none;\n",
              "      fill: #1967D2;\n",
              "      height: 32px;\n",
              "      padding: 0 0 0 0;\n",
              "      width: 32px;\n",
              "    }\n",
              "\n",
              "    .colab-df-convert:hover {\n",
              "      background-color: #E2EBFA;\n",
              "      box-shadow: 0px 1px 2px rgba(60, 64, 67, 0.3), 0px 1px 3px 1px rgba(60, 64, 67, 0.15);\n",
              "      fill: #174EA6;\n",
              "    }\n",
              "\n",
              "    [theme=dark] .colab-df-convert {\n",
              "      background-color: #3B4455;\n",
              "      fill: #D2E3FC;\n",
              "    }\n",
              "\n",
              "    [theme=dark] .colab-df-convert:hover {\n",
              "      background-color: #434B5C;\n",
              "      box-shadow: 0px 1px 3px 1px rgba(0, 0, 0, 0.15);\n",
              "      filter: drop-shadow(0px 1px 2px rgba(0, 0, 0, 0.3));\n",
              "      fill: #FFFFFF;\n",
              "    }\n",
              "  </style>\n",
              "\n",
              "      <script>\n",
              "        const buttonEl =\n",
              "          document.querySelector('#df-0e2c12e1-5852-42c8-af0e-947f34c11105 button.colab-df-convert');\n",
              "        buttonEl.style.display =\n",
              "          google.colab.kernel.accessAllowed ? 'block' : 'none';\n",
              "\n",
              "        async function convertToInteractive(key) {\n",
              "          const element = document.querySelector('#df-0e2c12e1-5852-42c8-af0e-947f34c11105');\n",
              "          const dataTable =\n",
              "            await google.colab.kernel.invokeFunction('convertToInteractive',\n",
              "                                                     [key], {});\n",
              "          if (!dataTable) return;\n",
              "\n",
              "          const docLinkHtml = 'Like what you see? Visit the ' +\n",
              "            '<a target=\"_blank\" href=https://colab.research.google.com/notebooks/data_table.ipynb>data table notebook</a>'\n",
              "            + ' to learn more about interactive tables.';\n",
              "          element.innerHTML = '';\n",
              "          dataTable['output_type'] = 'display_data';\n",
              "          await google.colab.output.renderOutput(dataTable, element);\n",
              "          const docLink = document.createElement('div');\n",
              "          docLink.innerHTML = docLinkHtml;\n",
              "          element.appendChild(docLink);\n",
              "        }\n",
              "      </script>\n",
              "    </div>\n",
              "  </div>\n",
              "  "
            ]
          },
          "metadata": {},
          "execution_count": 5
        }
      ]
    },
    {
      "cell_type": "code",
      "source": [
        "#matplotlib inline\n",
        "from matplotlib import pyplot as plt\n",
        "from matplotlib.ticker import PercentFormatter\n",
        "\n",
        "plt.rc('axes', unicode_minus = False)\n",
        "plt.rc('font',family='NanumGothic')\n",
        "\n",
        "plt.figure(figsize=(10,5))\n",
        "plt.hist(all_data['BMI'], bins=20, density=True, facecolor='red')\n",
        "plt.gca().yaxis.set_major_formatter(PercentFormatter(1))\n",
        "plt.xlabel('BMI', fontsize = 12)\n",
        "plt.ylabel('Percentage', fontsize = 12)\n",
        "plt.show()"
      ],
      "metadata": {
        "id": "PlukXyAZJ_rH",
        "colab": {
          "base_uri": "https://localhost:8080/",
          "height": 374
        },
        "outputId": "e04e1a0a-ff0b-48fb-ec8d-655683818620"
      },
      "execution_count": null,
      "outputs": [
        {
          "output_type": "stream",
          "name": "stderr",
          "text": [
            "findfont: Font family ['NanumGothic'] not found. Falling back to DejaVu Sans.\n",
            "findfont: Font family ['NanumGothic'] not found. Falling back to DejaVu Sans.\n"
          ]
        },
        {
          "output_type": "display_data",
          "data": {
            "text/plain": [
              "<Figure size 720x360 with 1 Axes>"
            ],
            "image/png": "[encoded data removed]"
          },
          "metadata": {
            "needs_background": "light"
          }
        }
      ]
    },
    {
      "cell_type": "markdown",
      "source": [
        "<h3>Task 2) Missing Data Imputation</h3>\n",
        "<ul>\n",
        "  <li>missing data의 NaN values를 0으로 치환 처리하였음..  </li>\n",
        "  <li>missing data의 NaN values를 mean으로 치환 처리하였음.  </li>\n",
        "</ul>"
      ],
      "metadata": {
        "id": "w_E8_gMOuy2d"
      }
    },
    {
      "cell_type": "code",
      "source": [
        "missing_data"
      ],
      "metadata": {
        "colab": {
          "base_uri": "https://localhost:8080/"
        },
        "id": "9wgHyvXp2X4q",
        "outputId": "6d577538-82dc-4425-96f8-4d7a52913920"
      },
      "execution_count": null,
      "outputs": [
        {
          "output_type": "execute_result",
          "data": {
            "text/plain": [
              "array([[0., 1., 1., ..., 9., 4., 3.],\n",
              "       [0., 0., 0., ..., 7., 6., 1.],\n",
              "       [0., 1., 1., ..., 9., 4., 8.],\n",
              "       ...,\n",
              "       [0., 0., 0., ..., 2., 5., 2.],\n",
              "       [0., 1., 0., ..., 7., 5., 1.],\n",
              "       [2., 1., 1., ..., 9., 6., 2.]])"
            ]
          },
          "metadata": {},
          "execution_count": 7
        }
      ]
    },
    {
      "cell_type": "code",
      "source": [
        "#missing data의 NaN을 전처리 하기 이전 NaN 갯수\n",
        "np.count_nonzero(np.isnan(missing_data))"
      ],
      "metadata": {
        "colab": {
          "base_uri": "https://localhost:8080/"
        },
        "id": "a9P7Fb9GI6oy",
        "outputId": "d6a451c7-4ab1-4274-cee0-f44ed60282f9"
      },
      "execution_count": null,
      "outputs": [
        {
          "output_type": "execute_result",
          "data": {
            "text/plain": [
              "1000"
            ]
          },
          "metadata": {},
          "execution_count": 8
        }
      ]
    },
    {
      "cell_type": "code",
      "source": [
        "impute_data_zero = np.where(np.isnan(missing_data), 0, missing_data) #0으로 치환\n",
        "impute_data_mean = np.nanmean(missing_data) #mean으로 치환\n",
        "\n",
        "print(\"impute_data_zero nan values?:\", np.any(np.isnan(impute_data_zero)))\n",
        "print(\"impute_data_mean nan values?:\", np.any(np.isnan(impute_data_mean)))"
      ],
      "metadata": {
        "id": "3JDwg8wWSyyI",
        "colab": {
          "base_uri": "https://localhost:8080/"
        },
        "outputId": "40ed28eb-2dd2-48ee-df73-1aa2eda52b5b"
      },
      "execution_count": null,
      "outputs": [
        {
          "output_type": "stream",
          "name": "stdout",
          "text": [
            "impute_data_zero nan values?: False\n",
            "impute_data_mean nan values?: False\n"
          ]
        }
      ]
    },
    {
      "cell_type": "code",
      "source": [
        "#정답 확인\n",
        "print(\"전처리 이전 NaN 갯수 : \", np.count_nonzero(np.isnan(missing_data)))\n",
        "print(\"0으로 치환 후 NaN 갯수 : \", np.count_nonzero(np.isnan(impute_data_zero)))\n",
        "print(\"mean으로 치환 후 NaN 갯수 : \", np.count_nonzero(np.isnan(impute_data_mean)))"
      ],
      "metadata": {
        "colab": {
          "base_uri": "https://localhost:8080/"
        },
        "id": "YGyohiWi7A70",
        "outputId": "735c7c70-3e66-45f5-8069-2f0dbd904a29"
      },
      "execution_count": null,
      "outputs": [
        {
          "output_type": "stream",
          "name": "stdout",
          "text": [
            "전처리 이전 NaN 갯수 :  1000\n",
            "0으로 치환 후 NaN 갯수 :  0\n",
            "mean으로 치환 후 NaN 갯수 :  0\n"
          ]
        }
      ]
    },
    {
      "cell_type": "markdown",
      "source": [
        "<h3>Task 3) Split Dataset(X and Y values) into train/valid/test data</h3>\n",
        "<ul>\n",
        "  <li>test data size를 전체 data의 20%으로, valid를 2944개 고정, 나머지를 test data로  </li>\n",
        "  <li>Diabetes_012 컬럼값이 타겟변수(Y values)이므로 label로 정의하고 dataset에서는 drop시킴  </li>\n",
        "</ul>"
      ],
      "metadata": {
        "id": "LB6w-YNovpot"
      }
    },
    {
      "cell_type": "code",
      "source": [
        "##데이터셋 Split 하기 \n",
        "\n",
        "#Split 정의하기 \n",
        "def split_train_test(data, test_ratio) : \n",
        "  shuffled_indices = np.random.permutation(len(data))\n",
        "  test_set_size = int(len(data) * test_ratio)\n",
        "  valid_set_size = test_set_size + 2944\n",
        "  test_indices = shuffled_indices[:test_set_size]\n",
        "  valid_indices = shuffled_indices[test_set_size:valid_set_size]\n",
        "  train_indices = shuffled_indices[valid_set_size:]\n",
        "  return data.iloc[train_indices], data.iloc[valid_indices], data.iloc[test_indices]\n",
        "train_data, valid_data, test_data = split_train_test(all_data, 0.2)\n",
        "\n",
        "#레이블은 Diabetes_012 컬럼값\n",
        "train_label = train_data[\"Diabetes_012\"]\n",
        "valid_label = valid_data[\"Diabetes_012\"]\n",
        "test_label = test_data[\"Diabetes_012\"]\n",
        "\n",
        "#데이터셋을 레이블(y값)컬럼은 Drop하여 재정의\n",
        "train_data = train_data.drop(\"Diabetes_012\", axis=1)\n",
        "valid_data = valid_data.drop(\"Diabetes_012\", axis=1)\n",
        "test_data = test_data.drop(\"Diabetes_012\", axis=1)\n",
        "\n",
        "\n",
        "print(\"Test data size correct:\", test_data.shape==(all_data_size*.2, 21))\n",
        "print(\"Valid data size correct:\", valid_data.shape==(2944,21))\n",
        "print(\"Train data size correct:\", train_data.shape==(all_data_size-len(test_data)-len(valid_data),21))\n",
        "\n",
        "print(\"Test label size correct:\", test_label.shape==(all_data_size*.2,))\n",
        "print(\"Valid label size correct:\", valid_label.shape==(2944,))\n",
        "print(\"Train label size correct:\", train_label.shape==(all_data_size-len(test_data)-len(valid_data),))"
      ],
      "metadata": {
        "id": "N0JsJjhxON1P",
        "colab": {
          "base_uri": "https://localhost:8080/"
        },
        "outputId": "a72d9ccf-3928-4d48-eb18-fc2cab1f636a"
      },
      "execution_count": null,
      "outputs": [
        {
          "output_type": "stream",
          "name": "stdout",
          "text": [
            "Test data size correct: True\n",
            "Valid data size correct: True\n",
            "Train data size correct: True\n",
            "Test label size correct: True\n",
            "Valid label size correct: True\n",
            "Train label size correct: True\n"
          ]
        }
      ]
    },
    {
      "cell_type": "code",
      "source": [
        "#정답 확인\n",
        "print(\"Drop 이전 원본데이터의 컬럼 수 : \", len(all_data.columns))\n",
        "print(\"Drop 이후 데이터셋의 컬럼 수 : \", len(train_data.columns))\n",
        "print('\\n')\n",
        "print(\"원본데이터 number of rows : \", len(all_data))\n",
        "print(\"train데이터 number of rows : \", len(train_data))\n",
        "print(\"valid데이터 number of rows : \", len(valid_data))\n",
        "print(\"test데이터 number of rows : \", len(test_data))\n",
        "print('\\n')\n",
        "print(\"train label 갯수 : \", train_label.shape)\n",
        "print(\"valid label 갯수 : \", valid_label.shape)\n",
        "print(\"test label 갯수 : \", test_label.shape)"
      ],
      "metadata": {
        "colab": {
          "base_uri": "https://localhost:8080/"
        },
        "id": "nPRIwMYvyOTW",
        "outputId": "f909b47e-f145-40bf-a44f-0bd6694ad894"
      },
      "execution_count": null,
      "outputs": [
        {
          "output_type": "stream",
          "name": "stdout",
          "text": [
            "Drop 이전 원본데이터의 컬럼 수 :  22\n",
            "Drop 이후 데이터셋의 컬럼 수 :  21\n",
            "\n",
            "\n",
            "원본데이터 number of rows :  253680\n",
            "train데이터 number of rows :  200000\n",
            "valid데이터 number of rows :  2944\n",
            "test데이터 number of rows :  50736\n",
            "\n",
            "\n",
            "train label 갯수 :  (200000,)\n",
            "valid label 갯수 :  (2944,)\n",
            "test label 갯수 :  (50736,)\n"
          ]
        }
      ]
    },
    {
      "cell_type": "code",
      "source": [
        "pd.set_option('display.max_columns', None)\n",
        "train_data.head()"
      ],
      "metadata": {
        "colab": {
          "base_uri": "https://localhost:8080/",
          "height": 250
        },
        "id": "QHzuiD3ZClsr",
        "outputId": "6f1f72e5-fe44-4bb6-a545-eb69e587bd15"
      },
      "execution_count": null,
      "outputs": [
        {
          "output_type": "execute_result",
          "data": {
            "text/plain": [
              "        HighBP  HighChol  CholCheck   BMI  Smoker  Stroke  \\\n",
              "161020     1.0       1.0        1.0  33.0     0.0     0.0   \n",
              "26330      0.0       0.0        1.0  20.0     0.0     0.0   \n",
              "139720     0.0       0.0        1.0  32.0     1.0     0.0   \n",
              "124697     1.0       1.0        1.0  32.0     0.0     0.0   \n",
              "89434      0.0       0.0        1.0  26.0     1.0     0.0   \n",
              "\n",
              "        HeartDiseaseorAttack  PhysActivity  Fruits  Veggies  \\\n",
              "161020                   0.0           1.0     0.0      1.0   \n",
              "26330                    0.0           1.0     0.0      1.0   \n",
              "139720                   0.0           1.0     1.0      0.0   \n",
              "124697                   0.0           1.0     0.0      1.0   \n",
              "89434                    0.0           1.0     1.0      0.0   \n",
              "\n",
              "        HvyAlcoholConsump  AnyHealthcare  NoDocbcCost  GenHlth  MentHlth  \\\n",
              "161020                0.0            1.0          0.0      2.0       5.0   \n",
              "26330                 0.0            1.0          1.0      4.0      10.0   \n",
              "139720                0.0            1.0          1.0      3.0       5.0   \n",
              "124697                0.0            1.0          0.0      3.0       0.0   \n",
              "89434                 0.0            1.0          0.0      1.0       0.0   \n",
              "\n",
              "        PhysHlth  DiffWalk  Sex   Age  Education  Income  \n",
              "161020       0.0       0.0  0.0   8.0        6.0     8.0  \n",
              "26330        0.0       0.0  0.0   7.0        6.0     8.0  \n",
              "139720       1.0       0.0  0.0   2.0        5.0     5.0  \n",
              "124697       0.0       0.0  0.0  11.0        6.0     5.0  \n",
              "89434        0.0       0.0  0.0  10.0        4.0     6.0  "
            ],
            "text/html": [
              "\n",
              "  <div id=\"df-cf54704c-3cd5-4c13-b291-cc6cc966042e\">\n",
              "    <div class=\"colab-df-container\">\n",
              "      <div>\n",
              "<style scoped>\n",
              "    .dataframe tbody tr th:only-of-type {\n",
              "        vertical-align: middle;\n",
              "    }\n",
              "\n",
              "    .dataframe tbody tr th {\n",
              "        vertical-align: top;\n",
              "    }\n",
              "\n",
              "    .dataframe thead th {\n",
              "        text-align: right;\n",
              "    }\n",
              "</style>\n",
              "<table border=\"1\" class=\"dataframe\">\n",
              "  <thead>\n",
              "    <tr style=\"text-align: right;\">\n",
              "      <th></th>\n",
              "      <th>HighBP</th>\n",
              "      <th>HighChol</th>\n",
              "      <th>CholCheck</th>\n",
              "      <th>BMI</th>\n",
              "      <th>Smoker</th>\n",
              "      <th>Stroke</th>\n",
              "      <th>HeartDiseaseorAttack</th>\n",
              "      <th>PhysActivity</th>\n",
              "      <th>Fruits</th>\n",
              "      <th>Veggies</th>\n",
              "      <th>HvyAlcoholConsump</th>\n",
              "      <th>AnyHealthcare</th>\n",
              "      <th>NoDocbcCost</th>\n",
              "      <th>GenHlth</th>\n",
              "      <th>MentHlth</th>\n",
              "      <th>PhysHlth</th>\n",
              "      <th>DiffWalk</th>\n",
              "      <th>Sex</th>\n",
              "      <th>Age</th>\n",
              "      <th>Education</th>\n",
              "      <th>Income</th>\n",
              "    </tr>\n",
              "  </thead>\n",
              "  <tbody>\n",
              "    <tr>\n",
              "      <th>161020</th>\n",
              "      <td>1.0</td>\n",
              "      <td>1.0</td>\n",
              "      <td>1.0</td>\n",
              "      <td>33.0</td>\n",
              "      <td>0.0</td>\n",
              "      <td>0.0</td>\n",
              "      <td>0.0</td>\n",
              "      <td>1.0</td>\n",
              "      <td>0.0</td>\n",
              "      <td>1.0</td>\n",
              "      <td>0.0</td>\n",
              "      <td>1.0</td>\n",
              "      <td>0.0</td>\n",
              "      <td>2.0</td>\n",
              "      <td>5.0</td>\n",
              "      <td>0.0</td>\n",
              "      <td>0.0</td>\n",
              "      <td>0.0</td>\n",
              "      <td>8.0</td>\n",
              "      <td>6.0</td>\n",
              "      <td>8.0</td>\n",
              "    </tr>\n",
              "    <tr>\n",
              "      <th>26330</th>\n",
              "      <td>0.0</td>\n",
              "      <td>0.0</td>\n",
              "      <td>1.0</td>\n",
              "      <td>20.0</td>\n",
              "      <td>0.0</td>\n",
              "      <td>0.0</td>\n",
              "      <td>0.0</td>\n",
              "      <td>1.0</td>\n",
              "      <td>0.0</td>\n",
              "      <td>1.0</td>\n",
              "      <td>0.0</td>\n",
              "      <td>1.0</td>\n",
              "      <td>1.0</td>\n",
              "      <td>4.0</td>\n",
              "      <td>10.0</td>\n",
              "      <td>0.0</td>\n",
              "      <td>0.0</td>\n",
              "      <td>0.0</td>\n",
              "      <td>7.0</td>\n",
              "      <td>6.0</td>\n",
              "      <td>8.0</td>\n",
              "    </tr>\n",
              "    <tr>\n",
              "      <th>139720</th>\n",
              "      <td>0.0</td>\n",
              "      <td>0.0</td>\n",
              "      <td>1.0</td>\n",
              "      <td>32.0</td>\n",
              "      <td>1.0</td>\n",
              "      <td>0.0</td>\n",
              "      <td>0.0</td>\n",
              "      <td>1.0</td>\n",
              "      <td>1.0</td>\n",
              "      <td>0.0</td>\n",
              "      <td>0.0</td>\n",
              "      <td>1.0</td>\n",
              "      <td>1.0</td>\n",
              "      <td>3.0</td>\n",
              "      <td>5.0</td>\n",
              "      <td>1.0</td>\n",
              "      <td>0.0</td>\n",
              "      <td>0.0</td>\n",
              "      <td>2.0</td>\n",
              "      <td>5.0</td>\n",
              "      <td>5.0</td>\n",
              "    </tr>\n",
              "    <tr>\n",
              "      <th>124697</th>\n",
              "      <td>1.0</td>\n",
              "      <td>1.0</td>\n",
              "      <td>1.0</td>\n",
              "      <td>32.0</td>\n",
              "      <td>0.0</td>\n",
              "      <td>0.0</td>\n",
              "      <td>0.0</td>\n",
              "      <td>1.0</td>\n",
              "      <td>0.0</td>\n",
              "      <td>1.0</td>\n",
              "      <td>0.0</td>\n",
              "      <td>1.0</td>\n",
              "      <td>0.0</td>\n",
              "      <td>3.0</td>\n",
              "      <td>0.0</td>\n",
              "      <td>0.0</td>\n",
              "      <td>0.0</td>\n",
              "      <td>0.0</td>\n",
              "      <td>11.0</td>\n",
              "      <td>6.0</td>\n",
              "      <td>5.0</td>\n",
              "    </tr>\n",
              "    <tr>\n",
              "      <th>89434</th>\n",
              "      <td>0.0</td>\n",
              "      <td>0.0</td>\n",
              "      <td>1.0</td>\n",
              "      <td>26.0</td>\n",
              "      <td>1.0</td>\n",
              "      <td>0.0</td>\n",
              "      <td>0.0</td>\n",
              "      <td>1.0</td>\n",
              "      <td>1.0</td>\n",
              "      <td>0.0</td>\n",
              "      <td>0.0</td>\n",
              "      <td>1.0</td>\n",
              "      <td>0.0</td>\n",
              "      <td>1.0</td>\n",
              "      <td>0.0</td>\n",
              "      <td>0.0</td>\n",
              "      <td>0.0</td>\n",
              "      <td>0.0</td>\n",
              "      <td>10.0</td>\n",
              "      <td>4.0</td>\n",
              "      <td>6.0</td>\n",
              "    </tr>\n",
              "  </tbody>\n",
              "</table>\n",
              "</div>\n",
              "      <button class=\"colab-df-convert\" onclick=\"convertToInteractive('df-cf54704c-3cd5-4c13-b291-cc6cc966042e')\"\n",
              "              title=\"Convert this dataframe to an interactive table.\"\n",
              "              style=\"display:none;\">\n",
              "        \n",
              "  <svg xmlns=\"http://www.w3.org/2000/svg\" height=\"24px\"viewBox=\"0 0 24 24\"\n",
              "       width=\"24px\">\n",
              "    <path d=\"M0 0h24v24H0V0z\" fill=\"none\"/>\n",
              "    <path d=\"M18.56 5.44l.94 2.06.94-2.06 2.06-.94-2.06-.94-.94-2.06-.94 2.06-2.06.94zm-11 1L8.5 8.5l.94-2.06 2.06-.94-2.06-.94L8.5 2.5l-.94 2.06-2.06.94zm10 10l.94 2.06.94-2.06 2.06-.94-2.06-.94-.94-2.06-.94 2.06-2.06.94z\"/><path d=\"M17.41 7.96l-1.37-1.37c-.4-.4-.92-.59-1.43-.59-.52 0-1.04.2-1.43.59L10.3 9.45l-7.72 7.72c-.78.78-.78 2.05 0 2.83L4 21.41c.39.39.9.59 1.41.59.51 0 1.02-.2 1.41-.59l7.78-7.78 2.81-2.81c.8-.78.8-2.07 0-2.86zM5.41 20L4 18.59l7.72-7.72 1.47 1.35L5.41 20z\"/>\n",
              "  </svg>\n",
              "      </button>\n",
              "      \n",
              "  <style>\n",
              "    .colab-df-container {\n",
              "      display:flex;\n",
              "      flex-wrap:wrap;\n",
              "      gap: 12px;\n",
              "    }\n",
              "\n",
              "    .colab-df-convert {\n",
              "      background-color: #E8F0FE;\n",
              "      border: none;\n",
              "      border-radius: 50%;\n",
              "      cursor: pointer;\n",
              "      display: none;\n",
              "      fill: #1967D2;\n",
              "      height: 32px;\n",
              "      padding: 0 0 0 0;\n",
              "      width: 32px;\n",
              "    }\n",
              "\n",
              "    .colab-df-convert:hover {\n",
              "      background-color: #E2EBFA;\n",
              "      box-shadow: 0px 1px 2px rgba(60, 64, 67, 0.3), 0px 1px 3px 1px rgba(60, 64, 67, 0.15);\n",
              "      fill: #174EA6;\n",
              "    }\n",
              "\n",
              "    [theme=dark] .colab-df-convert {\n",
              "      background-color: #3B4455;\n",
              "      fill: #D2E3FC;\n",
              "    }\n",
              "\n",
              "    [theme=dark] .colab-df-convert:hover {\n",
              "      background-color: #434B5C;\n",
              "      box-shadow: 0px 1px 3px 1px rgba(0, 0, 0, 0.15);\n",
              "      filter: drop-shadow(0px 1px 2px rgba(0, 0, 0, 0.3));\n",
              "      fill: #FFFFFF;\n",
              "    }\n",
              "  </style>\n",
              "\n",
              "      <script>\n",
              "        const buttonEl =\n",
              "          document.querySelector('#df-cf54704c-3cd5-4c13-b291-cc6cc966042e button.colab-df-convert');\n",
              "        buttonEl.style.display =\n",
              "          google.colab.kernel.accessAllowed ? 'block' : 'none';\n",
              "\n",
              "        async function convertToInteractive(key) {\n",
              "          const element = document.querySelector('#df-cf54704c-3cd5-4c13-b291-cc6cc966042e');\n",
              "          const dataTable =\n",
              "            await google.colab.kernel.invokeFunction('convertToInteractive',\n",
              "                                                     [key], {});\n",
              "          if (!dataTable) return;\n",
              "\n",
              "          const docLinkHtml = 'Like what you see? Visit the ' +\n",
              "            '<a target=\"_blank\" href=https://colab.research.google.com/notebooks/data_table.ipynb>data table notebook</a>'\n",
              "            + ' to learn more about interactive tables.';\n",
              "          element.innerHTML = '';\n",
              "          dataTable['output_type'] = 'display_data';\n",
              "          await google.colab.output.renderOutput(dataTable, element);\n",
              "          const docLink = document.createElement('div');\n",
              "          docLink.innerHTML = docLinkHtml;\n",
              "          element.appendChild(docLink);\n",
              "        }\n",
              "      </script>\n",
              "    </div>\n",
              "  </div>\n",
              "  "
            ]
          },
          "metadata": {},
          "execution_count": 14
        }
      ]
    },
    {
      "cell_type": "markdown",
      "source": [
        "<h3>Task 4) Preprocessing</h3>\n",
        "<ul>\n",
        "  <li>Ordinal Encoder와 MinMax Scaler를 사용함  </li>\n",
        "  <li>Label value를 0과 1 binary 형태로 치환하기 위해 np.clip을 사용하였음 </li>\n",
        "  <li>MinMax Scaler를 활용하여 데이터셋 values를 전처리하였음  </li>\n",
        "\n",
        "</ul>"
      ],
      "metadata": {
        "id": "yN_Gb_UqzERd"
      }
    },
    {
      "cell_type": "code",
      "source": [
        "#데이터셋 전처리(Preprocessing) 하기 \n",
        "\n",
        "from sklearn.preprocessing import OrdinalEncoder #문자형을 숫자형으로 변환시켜주는 인코더\n",
        "from sklearn.preprocessing import MinMaxScaler \n",
        "#from sklearn.preprocessing import OneHotEncoder\n",
        "\n",
        "#Label에서 0과 1로만 바꾸기\n",
        "train_label = np.clip(train_label, 0, 1).copy()\n",
        "valid_label = np.clip(valid_label, 0, 1).copy()\n",
        "test_label = np.clip(test_label, 0, 1).copy()\n",
        "\n",
        "ordinal_encoder = OrdinalEncoder() \n",
        "train_data_encoded = ordinal_encoder.fit_transform(train_data)\n",
        "valid_data_encoded = ordinal_encoder.fit_transform(valid_data)\n",
        "test_data_encoded = ordinal_encoder.fit_transform(test_data)\n",
        "#train_data_encoded[:10]\n",
        "#ordinal_encoder.categories_\n",
        "\n",
        "#MinMaxScaler를 이용하여 데이터셋 0~1 범위로 전처리하기\n",
        "minmax_scaler = MinMaxScaler(feature_range=(0,1.))\n",
        "train_data = minmax_scaler.fit_transform(train_data_encoded).copy()\n",
        "valid_data = minmax_scaler.fit_transform(valid_data_encoded).copy()\n",
        "test_data = minmax_scaler.fit_transform(test_data_encoded).copy()\n",
        "\n",
        "#OneHotEncoder = OneHotEncoder()\n",
        "#train_data_1hot = OneHotEncoder.fit_transform(train_data)\n",
        "#valid_data_1hot = OneHotEncoder.fit_transform(valid_data)\n",
        "#test_data_1hot = OneHotEncoder.fit_transform(test_data)\n",
        "#print(train_data_1hot.toarray())\n",
        "#print(valid_data_1hot.toarray())\n",
        "#rint(test_data_1hot.toarray())\n",
        "\n",
        "\n",
        "print(\"Train data range correct:\", np.max(train_data) == 1. and np.min(train_data)==0.)\n",
        "print(\"Valid data range correct:\", np.max(valid_data) == 1. and np.min(valid_data)==0.)\n",
        "print(\"Test data range correct:\", np.max(test_data) == 1. and np.min(test_data)==0.)\n",
        "\n",
        "print(\"Train label correct:\", np.unique(train_label)==(0,1))\n",
        "print(\"Valid label correct:\", np.unique(valid_label)==(0,1))\n",
        "print(\"Test label correct:\", np.unique(test_label)==(0,1))"
      ],
      "metadata": {
        "id": "1udsaxVIZNrG",
        "colab": {
          "base_uri": "https://localhost:8080/"
        },
        "outputId": "5e24b67b-7029-4a6b-934b-dd7d75d45dd9"
      },
      "execution_count": null,
      "outputs": [
        {
          "output_type": "stream",
          "name": "stdout",
          "text": [
            "Train data range correct: True\n",
            "Valid data range correct: True\n",
            "Test data range correct: True\n",
            "Train label correct: [ True  True]\n",
            "Valid label correct: [ True  True]\n",
            "Test label correct: [ True  True]\n"
          ]
        }
      ]
    },
    {
      "cell_type": "code",
      "source": [
        "dftrain_data = pd.DataFrame(train_data)\n",
        "dftrain_data.head()"
      ],
      "metadata": {
        "colab": {
          "base_uri": "https://localhost:8080/",
          "height": 206
        },
        "id": "qhuLyTVsRp07",
        "outputId": "81bd48aa-58a5-40f3-df64-affe82f01ac8"
      },
      "execution_count": null,
      "outputs": [
        {
          "output_type": "execute_result",
          "data": {
            "text/plain": [
              "    0    1    2         3    4    5    6    7    8    9    10   11   12    13  \\\n",
              "0  1.0  1.0  1.0  0.256098  0.0  0.0  0.0  1.0  0.0  1.0  0.0  1.0  0.0  0.25   \n",
              "1  0.0  0.0  1.0  0.097561  0.0  0.0  0.0  1.0  0.0  1.0  0.0  1.0  1.0  0.75   \n",
              "2  0.0  0.0  1.0  0.243902  1.0  0.0  0.0  1.0  1.0  0.0  0.0  1.0  1.0  0.50   \n",
              "3  1.0  1.0  1.0  0.243902  0.0  0.0  0.0  1.0  0.0  1.0  0.0  1.0  0.0  0.50   \n",
              "4  0.0  0.0  1.0  0.170732  1.0  0.0  0.0  1.0  1.0  0.0  0.0  1.0  0.0  0.00   \n",
              "\n",
              "         14        15   16   17        18   19        20  \n",
              "0  0.166667  0.000000  0.0  0.0  0.583333  1.0  1.000000  \n",
              "1  0.333333  0.000000  0.0  0.0  0.500000  1.0  1.000000  \n",
              "2  0.166667  0.033333  0.0  0.0  0.083333  0.8  0.571429  \n",
              "3  0.000000  0.000000  0.0  0.0  0.833333  1.0  0.571429  \n",
              "4  0.000000  0.000000  0.0  0.0  0.750000  0.6  0.714286  "
            ],
            "text/html": [
              "\n",
              "  <div id=\"df-00d0ca19-c640-471d-a416-00a569d28d3a\">\n",
              "    <div class=\"colab-df-container\">\n",
              "      <div>\n",
              "<style scoped>\n",
              "    .dataframe tbody tr th:only-of-type {\n",
              "        vertical-align: middle;\n",
              "    }\n",
              "\n",
              "    .dataframe tbody tr th {\n",
              "        vertical-align: top;\n",
              "    }\n",
              "\n",
              "    .dataframe thead th {\n",
              "        text-align: right;\n",
              "    }\n",
              "</style>\n",
              "<table border=\"1\" class=\"dataframe\">\n",
              "  <thead>\n",
              "    <tr style=\"text-align: right;\">\n",
              "      <th></th>\n",
              "      <th>0</th>\n",
              "      <th>1</th>\n",
              "      <th>2</th>\n",
              "      <th>3</th>\n",
              "      <th>4</th>\n",
              "      <th>5</th>\n",
              "      <th>6</th>\n",
              "      <th>7</th>\n",
              "      <th>8</th>\n",
              "      <th>9</th>\n",
              "      <th>10</th>\n",
              "      <th>11</th>\n",
              "      <th>12</th>\n",
              "      <th>13</th>\n",
              "      <th>14</th>\n",
              "      <th>15</th>\n",
              "      <th>16</th>\n",
              "      <th>17</th>\n",
              "      <th>18</th>\n",
              "      <th>19</th>\n",
              "      <th>20</th>\n",
              "    </tr>\n",
              "  </thead>\n",
              "  <tbody>\n",
              "    <tr>\n",
              "      <th>0</th>\n",
              "      <td>1.0</td>\n",
              "      <td>1.0</td>\n",
              "      <td>1.0</td>\n",
              "      <td>0.256098</td>\n",
              "      <td>0.0</td>\n",
              "      <td>0.0</td>\n",
              "      <td>0.0</td>\n",
              "      <td>1.0</td>\n",
              "      <td>0.0</td>\n",
              "      <td>1.0</td>\n",
              "      <td>0.0</td>\n",
              "      <td>1.0</td>\n",
              "      <td>0.0</td>\n",
              "      <td>0.25</td>\n",
              "      <td>0.166667</td>\n",
              "      <td>0.000000</td>\n",
              "      <td>0.0</td>\n",
              "      <td>0.0</td>\n",
              "      <td>0.583333</td>\n",
              "      <td>1.0</td>\n",
              "      <td>1.000000</td>\n",
              "    </tr>\n",
              "    <tr>\n",
              "      <th>1</th>\n",
              "      <td>0.0</td>\n",
              "      <td>0.0</td>\n",
              "      <td>1.0</td>\n",
              "      <td>0.097561</td>\n",
              "      <td>0.0</td>\n",
              "      <td>0.0</td>\n",
              "      <td>0.0</td>\n",
              "      <td>1.0</td>\n",
              "      <td>0.0</td>\n",
              "      <td>1.0</td>\n",
              "      <td>0.0</td>\n",
              "      <td>1.0</td>\n",
              "      <td>1.0</td>\n",
              "      <td>0.75</td>\n",
              "      <td>0.333333</td>\n",
              "      <td>0.000000</td>\n",
              "      <td>0.0</td>\n",
              "      <td>0.0</td>\n",
              "      <td>0.500000</td>\n",
              "      <td>1.0</td>\n",
              "      <td>1.000000</td>\n",
              "    </tr>\n",
              "    <tr>\n",
              "      <th>2</th>\n",
              "      <td>0.0</td>\n",
              "      <td>0.0</td>\n",
              "      <td>1.0</td>\n",
              "      <td>0.243902</td>\n",
              "      <td>1.0</td>\n",
              "      <td>0.0</td>\n",
              "      <td>0.0</td>\n",
              "      <td>1.0</td>\n",
              "      <td>1.0</td>\n",
              "      <td>0.0</td>\n",
              "      <td>0.0</td>\n",
              "      <td>1.0</td>\n",
              "      <td>1.0</td>\n",
              "      <td>0.50</td>\n",
              "      <td>0.166667</td>\n",
              "      <td>0.033333</td>\n",
              "      <td>0.0</td>\n",
              "      <td>0.0</td>\n",
              "      <td>0.083333</td>\n",
              "      <td>0.8</td>\n",
              "      <td>0.571429</td>\n",
              "    </tr>\n",
              "    <tr>\n",
              "      <th>3</th>\n",
              "      <td>1.0</td>\n",
              "      <td>1.0</td>\n",
              "      <td>1.0</td>\n",
              "      <td>0.243902</td>\n",
              "      <td>0.0</td>\n",
              "      <td>0.0</td>\n",
              "      <td>0.0</td>\n",
              "      <td>1.0</td>\n",
              "      <td>0.0</td>\n",
              "      <td>1.0</td>\n",
              "      <td>0.0</td>\n",
              "      <td>1.0</td>\n",
              "      <td>0.0</td>\n",
              "      <td>0.50</td>\n",
              "      <td>0.000000</td>\n",
              "      <td>0.000000</td>\n",
              "      <td>0.0</td>\n",
              "      <td>0.0</td>\n",
              "      <td>0.833333</td>\n",
              "      <td>1.0</td>\n",
              "      <td>0.571429</td>\n",
              "    </tr>\n",
              "    <tr>\n",
              "      <th>4</th>\n",
              "      <td>0.0</td>\n",
              "      <td>0.0</td>\n",
              "      <td>1.0</td>\n",
              "      <td>0.170732</td>\n",
              "      <td>1.0</td>\n",
              "      <td>0.0</td>\n",
              "      <td>0.0</td>\n",
              "      <td>1.0</td>\n",
              "      <td>1.0</td>\n",
              "      <td>0.0</td>\n",
              "      <td>0.0</td>\n",
              "      <td>1.0</td>\n",
              "      <td>0.0</td>\n",
              "      <td>0.00</td>\n",
              "      <td>0.000000</td>\n",
              "      <td>0.000000</td>\n",
              "      <td>0.0</td>\n",
              "      <td>0.0</td>\n",
              "      <td>0.750000</td>\n",
              "      <td>0.6</td>\n",
              "      <td>0.714286</td>\n",
              "    </tr>\n",
              "  </tbody>\n",
              "</table>\n",
              "</div>\n",
              "      <button class=\"colab-df-convert\" onclick=\"convertToInteractive('df-00d0ca19-c640-471d-a416-00a569d28d3a')\"\n",
              "              title=\"Convert this dataframe to an interactive table.\"\n",
              "              style=\"display:none;\">\n",
              "        \n",
              "  <svg xmlns=\"http://www.w3.org/2000/svg\" height=\"24px\"viewBox=\"0 0 24 24\"\n",
              "       width=\"24px\">\n",
              "    <path d=\"M0 0h24v24H0V0z\" fill=\"none\"/>\n",
              "    <path d=\"M18.56 5.44l.94 2.06.94-2.06 2.06-.94-2.06-.94-.94-2.06-.94 2.06-2.06.94zm-11 1L8.5 8.5l.94-2.06 2.06-.94-2.06-.94L8.5 2.5l-.94 2.06-2.06.94zm10 10l.94 2.06.94-2.06 2.06-.94-2.06-.94-.94-2.06-.94 2.06-2.06.94z\"/><path d=\"M17.41 7.96l-1.37-1.37c-.4-.4-.92-.59-1.43-.59-.52 0-1.04.2-1.43.59L10.3 9.45l-7.72 7.72c-.78.78-.78 2.05 0 2.83L4 21.41c.39.39.9.59 1.41.59.51 0 1.02-.2 1.41-.59l7.78-7.78 2.81-2.81c.8-.78.8-2.07 0-2.86zM5.41 20L4 18.59l7.72-7.72 1.47 1.35L5.41 20z\"/>\n",
              "  </svg>\n",
              "      </button>\n",
              "      \n",
              "  <style>\n",
              "    .colab-df-container {\n",
              "      display:flex;\n",
              "      flex-wrap:wrap;\n",
              "      gap: 12px;\n",
              "    }\n",
              "\n",
              "    .colab-df-convert {\n",
              "      background-color: #E8F0FE;\n",
              "      border: none;\n",
              "      border-radius: 50%;\n",
              "      cursor: pointer;\n",
              "      display: none;\n",
              "      fill: #1967D2;\n",
              "      height: 32px;\n",
              "      padding: 0 0 0 0;\n",
              "      width: 32px;\n",
              "    }\n",
              "\n",
              "    .colab-df-convert:hover {\n",
              "      background-color: #E2EBFA;\n",
              "      box-shadow: 0px 1px 2px rgba(60, 64, 67, 0.3), 0px 1px 3px 1px rgba(60, 64, 67, 0.15);\n",
              "      fill: #174EA6;\n",
              "    }\n",
              "\n",
              "    [theme=dark] .colab-df-convert {\n",
              "      background-color: #3B4455;\n",
              "      fill: #D2E3FC;\n",
              "    }\n",
              "\n",
              "    [theme=dark] .colab-df-convert:hover {\n",
              "      background-color: #434B5C;\n",
              "      box-shadow: 0px 1px 3px 1px rgba(0, 0, 0, 0.15);\n",
              "      filter: drop-shadow(0px 1px 2px rgba(0, 0, 0, 0.3));\n",
              "      fill: #FFFFFF;\n",
              "    }\n",
              "  </style>\n",
              "\n",
              "      <script>\n",
              "        const buttonEl =\n",
              "          document.querySelector('#df-00d0ca19-c640-471d-a416-00a569d28d3a button.colab-df-convert');\n",
              "        buttonEl.style.display =\n",
              "          google.colab.kernel.accessAllowed ? 'block' : 'none';\n",
              "\n",
              "        async function convertToInteractive(key) {\n",
              "          const element = document.querySelector('#df-00d0ca19-c640-471d-a416-00a569d28d3a');\n",
              "          const dataTable =\n",
              "            await google.colab.kernel.invokeFunction('convertToInteractive',\n",
              "                                                     [key], {});\n",
              "          if (!dataTable) return;\n",
              "\n",
              "          const docLinkHtml = 'Like what you see? Visit the ' +\n",
              "            '<a target=\"_blank\" href=https://colab.research.google.com/notebooks/data_table.ipynb>data table notebook</a>'\n",
              "            + ' to learn more about interactive tables.';\n",
              "          element.innerHTML = '';\n",
              "          dataTable['output_type'] = 'display_data';\n",
              "          await google.colab.output.renderOutput(dataTable, element);\n",
              "          const docLink = document.createElement('div');\n",
              "          docLink.innerHTML = docLinkHtml;\n",
              "          element.appendChild(docLink);\n",
              "        }\n",
              "      </script>\n",
              "    </div>\n",
              "  </div>\n",
              "  "
            ]
          },
          "metadata": {},
          "execution_count": 25
        }
      ]
    },
    {
      "cell_type": "markdown",
      "source": [
        "<h3>Task 5) Modeling</h3>\n",
        "<ul>\n",
        "  <li>Random Forest모델을 채택하여 학습 진행  </li>\n",
        "  <li>Validation 진행 </li>\n",
        "  <li>sklearn의 Randomized Search를 활용하여 hyperparameter optimization 진행  </li>\n",
        "  <li>pkl확장자로 모델 저장  </li>\n",
        "</ul>"
      ],
      "metadata": {
        "id": "8JvCf8KG0aO-"
      }
    },
    {
      "cell_type": "code",
      "source": [
        "#랜덤포레스트 모델 생성\n",
        "from sklearn.ensemble import RandomForestRegressor\n",
        "forest_reg = RandomForestRegressor(n_estimators=200, random_state=42)\n",
        "\n",
        "#모델 학습\n",
        "forest_reg.fit(train_data, train_label)\n",
        "\n",
        "#n_estimator  : the number of trees in the forest\n",
        "#max_depth : depth of trees in the forest\n",
        "#max_features : maximum number of features"
      ],
      "metadata": {
        "colab": {
          "base_uri": "https://localhost:8080/"
        },
        "id": "NmK91pLBV3Dj",
        "outputId": "6ea01d74-1b55-4dd5-f4c3-2ed308f41c88"
      },
      "execution_count": null,
      "outputs": [
        {
          "output_type": "execute_result",
          "data": {
            "text/plain": [
              "RandomForestRegressor(n_estimators=200, random_state=42)"
            ]
          },
          "metadata": {},
          "execution_count": 26
        }
      ]
    },
    {
      "cell_type": "code",
      "source": [
        "#초기모델 검증 (모델의 결정계수 출력)\n",
        "print(forest_reg.score(train_data, train_label))"
      ],
      "metadata": {
        "colab": {
          "base_uri": "https://localhost:8080/"
        },
        "id": "ynkzPnnJwj11",
        "outputId": "a4543108-e481-4904-b0bb-4bf2c26c7e9f"
      },
      "execution_count": null,
      "outputs": [
        {
          "output_type": "stream",
          "name": "stdout",
          "text": [
            "0.8582483051832234\n"
          ]
        }
      ]
    },
    {
      "cell_type": "code",
      "source": [
        "#모델의 RMSE를 출력 \n",
        "#RMSE : root mean squared error. MSE(실제값과 예측값의 차를 제곱하여 평균)의 제곱근\n",
        "\n",
        "from sklearn.metrics import mean_squared_error\n",
        "\n",
        "diabetes_predictions = forest_reg.predict(train_data)\n",
        "forest_mse = mean_squared_error(train_label, diabetes_predictions)\n",
        "forest_rmse = np.sqrt(forest_mse)\n",
        "forest_rmse"
      ],
      "metadata": {
        "colab": {
          "base_uri": "https://localhost:8080/"
        },
        "id": "flvVNzHjWqqt",
        "outputId": "41481f22-1fd9-4e68-ab33-881db3ceb8e7"
      },
      "execution_count": null,
      "outputs": [
        {
          "output_type": "execute_result",
          "data": {
            "text/plain": [
              "0.13716212204442205"
            ]
          },
          "metadata": {},
          "execution_count": 28
        }
      ]
    },
    {
      "cell_type": "code",
      "source": [
        "#하이퍼파라미터 튜닝\n",
        "#search space가 크기 때문에 grid search가 아닌 random search로 진행\n",
        "\n",
        "from sklearn.model_selection import RandomizedSearchCV\n",
        "from scipy.stats import randint\n",
        "\n",
        "param_distribs = {\n",
        "        'n_estimators': [200, 300, 400, 500, 600],\n",
        "        'max_features': randint(low=1, high=5),\n",
        "        'max_depth': randint(low=1, high=5),\n",
        "    }\n",
        "\n",
        "forest_reg = RandomForestRegressor(random_state=42)\n",
        "rnd_search = RandomizedSearchCV(forest_reg, param_distributions=param_distribs,\n",
        "                                n_iter=10, cv=5, scoring='neg_mean_squared_error', random_state=42)\n",
        "#rnd_search = RandomizedSearchCV(forest_reg(모델명), param_distributions=param_distribs(하이퍼파라미터 조정범위),\n",
        "#                                n_iter=10(탐색횟수), cv=5(fold 수), scoring='neg_mean_squared_error'(평가방법), random_state=42)\n",
        "rnd_search.fit(train_data, train_label)"
      ],
      "metadata": {
        "id": "_KB0pSEnZvrX",
        "colab": {
          "base_uri": "https://localhost:8080/"
        },
        "outputId": "5c71e4e2-ac0f-4bbc-8b90-0be4f6d64103"
      },
      "execution_count": null,
      "outputs": [
        {
          "output_type": "execute_result",
          "data": {
            "text/plain": [
              "RandomizedSearchCV(cv=5, estimator=RandomForestRegressor(random_state=42),\n",
              "                   param_distributions={'max_depth': <scipy.stats._distn_infrastructure.rv_frozen object at 0x7fa537a4ed90>,\n",
              "                                        'max_features': <scipy.stats._distn_infrastructure.rv_frozen object at 0x7fa537a4e210>,\n",
              "                                        'n_estimators': [200, 300, 400, 500,\n",
              "                                                         600]},\n",
              "                   random_state=42, scoring='neg_mean_squared_error')"
            ]
          },
          "metadata": {},
          "execution_count": 29
        }
      ]
    },
    {
      "cell_type": "code",
      "source": [
        "cvres = rnd_search.cv_results_\n",
        "for mean_score, params in zip(cvres[\"mean_test_score\"], cvres[\"params\"]):\n",
        "    print(np.sqrt(-mean_score), params)"
      ],
      "metadata": {
        "colab": {
          "base_uri": "https://localhost:8080/"
        },
        "id": "im_cRdrTO242",
        "outputId": "434c4e6c-2ce5-4672-f94b-35c628593e8a"
      },
      "execution_count": null,
      "outputs": [
        {
          "output_type": "stream",
          "name": "stdout",
          "text": [
            "0.33684090170351666 {'max_depth': 3, 'max_features': 4, 'n_estimators': 600}\n",
            "0.33846116492238454 {'max_depth': 3, 'max_features': 3, 'n_estimators': 600}\n",
            "0.3509313300082854 {'max_depth': 1, 'max_features': 3, 'n_estimators': 300}\n",
            "0.33866943439273894 {'max_depth': 3, 'max_features': 3, 'n_estimators': 400}\n",
            "0.33684090170351666 {'max_depth': 3, 'max_features': 4, 'n_estimators': 600}\n",
            "0.33396771223491983 {'max_depth': 4, 'max_features': 4, 'n_estimators': 400}\n",
            "0.35164394304040514 {'max_depth': 2, 'max_features': 1, 'n_estimators': 300}\n",
            "0.3339787098917245 {'max_depth': 4, 'max_features': 4, 'n_estimators': 300}\n",
            "0.33387901343934534 {'max_depth': 4, 'max_features': 4, 'n_estimators': 600}\n",
            "0.34906867090914623 {'max_depth': 1, 'max_features': 4, 'n_estimators': 300}\n"
          ]
        }
      ]
    },
    {
      "cell_type": "code",
      "source": [
        "print(\"최적 파라미터 결과 : \", rnd_search.best_params_)"
      ],
      "metadata": {
        "colab": {
          "base_uri": "https://localhost:8080/"
        },
        "id": "FYHCy_adPSCf",
        "outputId": "d590882d-d3ec-4308-bc7f-46a40947a4b5"
      },
      "execution_count": null,
      "outputs": [
        {
          "output_type": "stream",
          "name": "stdout",
          "text": [
            "최적 파라미터 결과 :  {'max_depth': 4, 'max_features': 4, 'n_estimators': 600}\n"
          ]
        }
      ]
    },
    {
      "cell_type": "code",
      "source": [
        "#튜닝한 최종 모델(final_model)의 RMSE\n",
        "\n",
        "from sklearn.metrics import mean_squared_error\n",
        "\n",
        "final_model = rnd_search.best_estimator_\n",
        "\n",
        "diabetes_predictions_final = final_model.predict(train_data)\n",
        "forest_mse = mean_squared_error(train_label, diabetes_predictions_final)\n",
        "forest_rmse = np.sqrt(forest_mse)\n",
        "print(\"final_model (train_data): \", forest_rmse)"
      ],
      "metadata": {
        "colab": {
          "base_uri": "https://localhost:8080/"
        },
        "id": "shemCq-WfI67",
        "outputId": "361b1e66-9e29-45cc-a3b5-6efad3b86bfb"
      },
      "execution_count": null,
      "outputs": [
        {
          "output_type": "stream",
          "name": "stdout",
          "text": [
            "final_model (train_data):  0.33373888590388195\n"
          ]
        }
      ]
    },
    {
      "cell_type": "code",
      "source": [
        "#valid data를 대입한 모델 검증\n",
        "\n",
        "diabetes_predictions_valid = final_model.predict(valid_data)\n",
        "forest_mse_valid = mean_squared_error(valid_label, diabetes_predictions_valid)\n",
        "forest_rmse_valid = np.sqrt(forest_mse_valid)\n",
        "print(\"final model (valid_data): \", forest_rmse_valid)"
      ],
      "metadata": {
        "colab": {
          "base_uri": "https://localhost:8080/"
        },
        "id": "2Go5mwWqPMrI",
        "outputId": "ce8399b4-e6dc-4f01-a8f6-12923871f0be"
      },
      "execution_count": null,
      "outputs": [
        {
          "output_type": "stream",
          "name": "stdout",
          "text": [
            "final model (valid_data):  0.33463581996277225\n"
          ]
        }
      ]
    },
    {
      "cell_type": "code",
      "source": [
        "final_model.predict(valid_data)"
      ],
      "metadata": {
        "colab": {
          "base_uri": "https://localhost:8080/"
        },
        "id": "Zw5ZMiRquNlR",
        "outputId": "17b8290b-d01c-4f8a-a1cf-df18234c62f1"
      },
      "execution_count": null,
      "outputs": [
        {
          "output_type": "execute_result",
          "data": {
            "text/plain": [
              "array([0.1747711 , 0.24051486, 0.07659887, ..., 0.32146039, 0.4514398 ,\n",
              "       0.04122387])"
            ]
          },
          "metadata": {},
          "execution_count": 34
        }
      ]
    },
    {
      "cell_type": "code",
      "source": [
        "#model 저장하기\n",
        "\n",
        "import joblib\n",
        "songhyunmodel = final_model\n",
        "joblib.dump(songhyunmodel, \"songhyunmodel.pkl\")"
      ],
      "metadata": {
        "colab": {
          "base_uri": "https://localhost:8080/"
        },
        "id": "ZZnEqo8Crixw",
        "outputId": "4189d1ea-fa68-4634-a05d-392ab7f6732e"
      },
      "execution_count": null,
      "outputs": [
        {
          "output_type": "execute_result",
          "data": {
            "text/plain": [
              "['songhyunmodel.pkl']"
            ]
          },
          "metadata": {},
          "execution_count": 35
        }
      ]
    },
    {
      "cell_type": "markdown",
      "source": [
        "<h3>Task 6) Evaluating</h3>\n",
        "<ul>\n",
        "  <li>pkl로 저장한 모델을 불러오기  </li>\n",
        "  <li>불러온 모델의 prediction (for valid data) 수치 확인하기 </li>\n",
        "  <li>test 데이터셋으로 모델 평가하기  </li>\n",
        "</ul>"
      ],
      "metadata": {
        "id": "R6UbPRJWLgbE"
      }
    },
    {
      "cell_type": "code",
      "source": [
        "songhyunmodel_loaded = joblib.load(\"songhyunmodel.pkl\")\n",
        "songhyunmodel_loaded.predict(valid_data)"
      ],
      "metadata": {
        "id": "de9_T95Kid4a",
        "colab": {
          "base_uri": "https://localhost:8080/"
        },
        "outputId": "8b5ab37f-deaa-4bb2-c42f-9b1813d8f4c6"
      },
      "execution_count": null,
      "outputs": [
        {
          "output_type": "execute_result",
          "data": {
            "text/plain": [
              "array([0.1747711 , 0.24051486, 0.07659887, ..., 0.32146039, 0.4514398 ,\n",
              "       0.04122387])"
            ]
          },
          "metadata": {},
          "execution_count": 36
        }
      ]
    },
    {
      "cell_type": "code",
      "source": [
        "#테스트셋으로 모델 평가하기\n",
        "\n",
        "diabetes_predictions_test = final_model.predict(test_data)\n",
        "forest_mse_test = mean_squared_error(test_label, diabetes_predictions_test)\n",
        "forest_rmse_test = np.sqrt(forest_mse_test)\n",
        "print(\"final_model (test_data): \", forest_rmse_test)"
      ],
      "metadata": {
        "colab": {
          "base_uri": "https://localhost:8080/"
        },
        "id": "LFJkDzBcuhEy",
        "outputId": "5e362c8a-228e-403d-a851-b70057b2207c"
      },
      "execution_count": null,
      "outputs": [
        {
          "output_type": "stream",
          "name": "stdout",
          "text": [
            "final_model (test_data):  0.3339779562716205\n"
          ]
        }
      ]
    },
    {
      "cell_type": "code",
      "source": [
        "#초기모델 검증 (모델의 결정계수 출력)\n",
        "print(final_model.score(train_data, train_label))\n",
        "print(final_model.score(test_data, test_label))\n",
        "print(final_model.score(valid_data, valid_label))"
      ],
      "metadata": {
        "colab": {
          "base_uri": "https://localhost:8080/"
        },
        "id": "dejvjXqaMnbQ",
        "outputId": "5ea16450-eae5-4709-dc2b-fa0ea6d5107d"
      },
      "execution_count": null,
      "outputs": [
        {
          "output_type": "stream",
          "name": "stdout",
          "text": [
            "0.16078450716325854\n",
            "0.1606954522250722\n",
            "0.1550856048111251\n"
          ]
        }
      ]
    }
  ]
}